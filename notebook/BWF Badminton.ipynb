{
 "cells": [
  {
   "cell_type": "markdown",
   "metadata": {},
   "source": [
    "# Bayesian Data Analysis - Project\n",
    "___\n",
    "\n",
    "__Note!__ The submitted notebooks need to illustrate the knowledge of the Bayesian workflow\n",
    "\n",
    "__RUBRIC:__ \n",
    "* The introduction is inviting, presents an overview of the notebook. Information is relevant and presented in a logical order.\n",
    "* The conclusion is clear\n",
    "* The notebook presents a clear cohesive data analysis story, which is enjoyable to read\n",
    "* Accuracy of use of statistical terms: Statistical terms are used accurately and with clarity \n",
    "* Description of the data, and the analysis problem\n",
    "* Description of the model\n",
    "* Description of the prior choices: Priors are listed and justiﬁed\n",
    "* Is Stan code included?\n",
    "* Is code for how Stan model is run included?\n",
    "*  Is required convergence diagnostics (Rhat, divergences, neff) included?: Required onvergence diagnostic results shown and maning of the results is discussed\n",
    "* Is there posterior predictive checking?\n",
    "*  Is there a discussion of problems and potential improvements ?\n",
    "___\n"
   ]
  },
  {
   "cell_type": "code",
   "execution_count": 4,
   "metadata": {},
   "outputs": [],
   "source": [
    "# Import libraries\n",
    "import numpy as np\n",
    "import pandas as pd\n",
    "import matplotlib as mpl\n",
    "import matplotlib.pyplot as plt\n",
    "import os\n",
    "\n",
    "import pystan\n",
    "import stan_utility\n",
    "import psis\n",
    "\n",
    "#For hiding warnings that do not effect the functionality of the code\n",
    "import warnings\n",
    "warnings.filterwarnings('ignore')"
   ]
  },
  {
   "cell_type": "markdown",
   "metadata": {},
   "source": [
    "## 1 Introduction\n",
    "\n",
    "\n",
    "* The introduction is inviting, presents an overview of the notebook. Information is relevant and presented in a logical order. (Analysis problem)\n",
    "\n"
   ]
  },
  {
   "cell_type": "markdown",
   "metadata": {},
   "source": [
    "## 2 Analysis problem\n",
    "* Did you get a sense of what is the data and the analysis problem when they were ﬁrst introduced? Where and how might the author make the model description more clear?"
   ]
  },
  {
   "cell_type": "markdown",
   "metadata": {},
   "source": [
    "## 3 Dataset\n",
    "* image from the website\n",
    "* spread (-11..11)\n",
    "* win categories (1..6)\n",
    "    * LL 1\n",
    "    * ...\n",
    "    * WW 6\n",
    "* mapping table (1..46)\n",
    "* print the final dataset"
   ]
  },
  {
   "cell_type": "code",
   "execution_count": 37,
   "metadata": {},
   "outputs": [
    {
     "name": "stdout",
     "output_type": "stream",
     "text": [
      "67\n",
      "67\n",
      "67\n",
      "67\n",
      "67\n",
      "(5, 67)\n"
     ]
    }
   ],
   "source": [
    "# Read data and preprocess it\n",
    "data = []\n",
    "\n",
    "filenames = os.listdir(r'./data/')\n",
    "for idx, filename in enumerate(filenames):\n",
    "    #df = pd.read_csv(f'data//{filename}')\n",
    "    col = np.loadtxt(f'data//{filename}').tolist()[0:67]\n",
    "    if (idx == (len(filenames) - 1)):\n",
    "        last = col[0:67]\n",
    "    else:\n",
    "        data.append(col)\n",
    "\n",
    "np_data = np.array(data)\n",
    "#+ other stuff\n",
    "\n",
    "# preview some first rows\n",
    "#data.head()\n",
    "\n",
    "# some summary\n",
    "#data.describe()\n",
    "\n",
    "#print number of observations (matches) and number of predictors (tournaments)"
   ]
  },
  {
   "cell_type": "markdown",
   "metadata": {},
   "source": [
    "\n",
    "## 4 Prior choices\n",
    "* normal\n",
    "* uniform\n",
    "\n",
    "https://people.eecs.berkeley.edu/~jordan/courses/260-spring10/lectures/lecture5.pdf\n",
    "\n",
    " (Priors are listed and justiﬁed)\n",
    " We will go with 2 priors for the std: inverse gamma and uniform. The normal is based on the assumption that the expected observation is close to the middle. \n",
    " \n",
    "**(what is the default variance for inverse gamma if not given, how ab alpha, beta)\n",
    " \n",
    "**(ask what is the default std for normal in stan if not provided)**\n",
    "\n",
    "Uniform prior is based on the assumption that each observation is equally likely to happen.\n",
    " "
   ]
  },
  {
   "cell_type": "markdown",
   "metadata": {},
   "source": [
    "## 5 Model\n",
    "\n",
    "Combing with priors choice we have 4 different models:\n",
    "* pooled with uniform prior for std\n",
    "* pooled with inverse gamma prior for std\n",
    "* hierarchical with uniform prior for std\n",
    "* hierarchical with inverse gamma prior for std\n",
    "\n",
    "-> show formula\n",
    "-> explain why not separate! \n",
    "Since the goal is to predict the distribution of a new tournament, separate model is included because it can't used to make prediction. \n",
    "\n",
    "(binomial: uniform prior + logit binomial likelihood)\n",
    "\n",
    "Did you get a sense of what is the model? Where and how might the author make the model description more clear?\n"
   ]
  },
  {
   "cell_type": "code",
   "execution_count": null,
   "metadata": {},
   "outputs": [],
   "source": []
  },
  {
   "cell_type": "markdown",
   "metadata": {},
   "source": [
    "## 6 Model comparison\n",
    "\n",
    "\n",
    "__TO DO!__ In the separate model the mean ($theta$ in the Stan code) and the deviation ($sigma$ in the Stan code) is computed from the data for each machine separately.The Stan code below fits the given machine's data ($y$) to the normal distribution. Once the data has been fitted, the learned $theta$ and $sigma$ values can be used to compute the log-likelihood values of each observation ($N=30$) for every posterior draw ($S$). The resulting matrix ($SxN$) is later used in LOO-CV and P LOO-CV.\n",
    "\n",
    "Explain stan code, fit model and do convergence diagnostic: rhat, divergences, neff \n",
    "* n_effs are high and Rhats<1.1, which is good\n",
    "* Next we check divergences, E-BMFI and treedepth exceedences as explained in Robust Statistical Workflow with PyStan Case Study by Michael Betancourt.\n",
    "*  Everything is fine based on these diagnostics and we can proceed with our analysis.\n",
    "\n",
    "\n",
    "### 6.1 Pooled model\n",
    "\n",
    "__TO DO!__ In the pooled model the mean ($theta$ in the Stan code) and the deviation ($sigma$ in the Stan code) is computed from the combined data of all machines. The combined data means that the data of the machines are common and no distinction between machines can be made. In this model, the same Stan code can be used (detailed description can be found from section 8.1)."
   ]
  },
  {
   "cell_type": "code",
   "execution_count": 76,
   "metadata": {},
   "outputs": [
    {
     "name": "stdout",
     "output_type": "stream",
     "text": [
      "(67, 5)\n"
     ]
    }
   ],
   "source": [
    "print(np_data.T.shape)"
   ]
  },
  {
   "cell_type": "code",
   "execution_count": 92,
   "metadata": {},
   "outputs": [],
   "source": [
    "_#Show model\n",
    "def print_model():\n",
    "    with open('stan_code\\\\pool_uniform_prior.stan') as file:\n",
    "        print(file.read())\n",
    "\n",
    "pooled_data = np_data.flatten()\n",
    "pooled_data_model = dict(N=len(pooled_data), y=pooled_data)\n",
    "\n",
    "pooled_inv_g_data_model = dict(N=len(pooled_data), y=pooled_data)\n",
    "\n",
    "hierarchical_data_model = dict(N = np_data.shape[1], J= np_data.shape[0],y = np_data.T)\n",
    "# choosing alpha and beta?\n",
    "\n",
    "def compute_model(file_path, data):\n",
    "    # Compile model for both separated and pooled\n",
    "    model = stan_utility.compile_model(file_path) \n",
    "\n",
    "    # Fit model\n",
    "    fit = model.sampling(data=data, seed=194838)\n",
    "    #stan_utility.check_treedepth(fit)\n",
    "    #stan_utility.check_energy(fit)\n",
    "    #stan_utility.check_div(fit)\n",
    "\n",
    "    # print summary of selected variables\n",
    "    # use pandas data frame for layout\n",
    "    #summary = fit.summary(pars=['mu', 'sigma'])\n",
    "    #df = pd.DataFrame(\n",
    "    #    summary['summary'],\n",
    "    #    index=summary['summary_rownames'],\n",
    "    #    columns=summary['summary_colnames']\n",
    "    #)\n",
    "    \n",
    "    return df, fit\n",
    "\n",
    "def compare_yreds_against_actual_distribution(ypreds, actual):\n",
    "    #..\n",
    "    #..\n",
    "    #...\n",
    "    # FOR KRISTELLLLLLL\n",
    "    pass\n",
    "\n",
    "def compare_psis_loo(log_liks):\n",
    "    ## compute psis_loo, p_eff\n",
    "    ## plot k-values\n",
    "    pass\n",
    "\n",
    "def plot_ypred(fit):\n",
    "    samples = fit.extract(permuted=True)\n",
    "    ypred = samples['ypred']\n",
    "    plt.hist(ypred, bins=100)\n",
    "    "
   ]
  },
  {
   "cell_type": "code",
   "execution_count": 86,
   "metadata": {
    "scrolled": false
   },
   "outputs": [
    {
     "name": "stdout",
     "output_type": "stream",
     "text": [
      "Using cached StanModel\n"
     ]
    }
   ],
   "source": [
    "pool_uni_df, pool_uni_fit = compute_model(r'stan_code/pool_uniform_prior.stan', pooled_data_model)"
   ]
  },
  {
   "cell_type": "code",
   "execution_count": 93,
   "metadata": {},
   "outputs": [
    {
     "data": {
      "image/png": "[encoded data removed]",
      "text/plain": [
       "<Figure size 432x288 with 1 Axes>"
      ]
     },
     "metadata": {
      "needs_background": "light"
     },
     "output_type": "display_data"
    }
   ],
   "source": [
    "plot_ypred(pool_uni_fit)"
   ]
  },
  {
   "cell_type": "code",
   "execution_count": 102,
   "metadata": {},
   "outputs": [
    {
     "name": "stderr",
     "output_type": "stream",
     "text": [
      "INFO:pystan:COMPILING THE C++ CODE FOR MODEL anon_model_810bada01bb5e9e25451b03bebe0beab NOW.\n"
     ]
    }
   ],
   "source": [
    "pool_inv_df, pool_inv_fit = compute_model(r'stan_code/pool_inverse_gamma_prior.stan', pooled_data_model)\n",
    "\n"
   ]
  },
  {
   "cell_type": "code",
   "execution_count": 103,
   "metadata": {},
   "outputs": [
    {
     "data": {
      "image/png": "[encoded data removed]",
      "text/plain": [
       "<Figure size 432x288 with 1 Axes>"
      ]
     },
     "metadata": {
      "needs_background": "light"
     },
     "output_type": "display_data"
    }
   ],
   "source": [
    "plot_ypred(pool_inv_fit)"
   ]
  },
  {
   "cell_type": "code",
   "execution_count": null,
   "metadata": {},
   "outputs": [
    {
     "name": "stdout",
     "output_type": "stream",
     "text": [
      "Using cached StanModel\n"
     ]
    }
   ],
   "source": [
    "hier_uni_df, hier_uni_fit = compute_model(r'stan_code/hier_uniform_prior.stan', hierarchical_data_model)"
   ]
  },
  {
   "cell_type": "code",
   "execution_count": 99,
   "metadata": {},
   "outputs": [
    {
     "data": {
      "image/png": "[encoded data removed]",
      "text/plain": [
       "<Figure size 432x288 with 1 Axes>"
      ]
     },
     "metadata": {
      "needs_background": "light"
     },
     "output_type": "display_data"
    }
   ],
   "source": [
    "plot_ypred(hier_uni_fit)"
   ]
  },
  {
   "cell_type": "code",
   "execution_count": 100,
   "metadata": {},
   "outputs": [
    {
     "name": "stdout",
     "output_type": "stream",
     "text": [
      "Using cached StanModel\n"
     ]
    },
    {
     "name": "stderr",
     "output_type": "stream",
     "text": [
      "WARNING:pystan:n_eff / iter for parameter lp__ is 0.000692276762113044!\n",
      "WARNING:pystan:n_eff / iter below 0.001 indicates that the effective sample size has likely been overestimated\n",
      "WARNING:pystan:Rhat for parameter sigma0 is 1.1413261043879896!\n",
      "WARNING:pystan:Rhat for parameter lp__ is 1.9234829863813494!\n",
      "WARNING:pystan:Rhat above 1.1 or below 0.9 indicates that the chains very likely have not mixed\n",
      "WARNING:pystan:622 of 4000 iterations ended with a divergence (15.55%).\n",
      "WARNING:pystan:Try running with adapt_delta larger than 0.8 to remove the divergences.\n"
     ]
    }
   ],
   "source": [
    "hier_inv_df, hier_inv_fit = compute_model(r'stan_code/hier_inverse_gamma_prior.stan', hierarchical_data_model)"
   ]
  },
  {
   "cell_type": "code",
   "execution_count": 101,
   "metadata": {
    "scrolled": false
   },
   "outputs": [
    {
     "data": {
      "image/png": "[encoded data removed]",
      "text/plain": [
       "<Figure size 432x288 with 1 Axes>"
      ]
     },
     "metadata": {
      "needs_background": "light"
     },
     "output_type": "display_data"
    }
   ],
   "source": [
    "plot_ypred(hier_inv_fit)"
   ]
  },
  {
   "cell_type": "markdown",
   "metadata": {},
   "source": [
    "### 6.2 Pooled model\n",
    "__TO DO!__ In the pooled model the mean ($theta$ in the Stan code) and the deviation ($sigma$ in the Stan code) is computed from the combined data of all machines. The combined data means that the data of the machines are common and no distinction between machines can be made. In this model, the same Stan code can be used (detailed description can be found from section 8.1).\n",
    "\n"
   ]
  },
  {
   "cell_type": "code",
   "execution_count": null,
   "metadata": {},
   "outputs": [],
   "source": [
    "# Fit model\n",
    "y_pooled = []\n",
    "for i in range(0,len(factoryData.columns)):\n",
    "    y_pooled.extend(factoryData[i].values)\n",
    "model_data = dict(N = len(y_pooled), y = y_pooled)\n",
    "pfit = model.sampling(data=model_data, seed=194838)\n",
    "stan_utility.check_treedepth(pfit)\n",
    "stan_utility.check_energy(pfit)\n",
    "stan_utility.check_div(pfit)\n",
    "print(pfit)"
   ]
  },
  {
   "cell_type": "markdown",
   "metadata": {},
   "source": [
    "### 6.3 Hierarchical model\n",
    "__TO DO!__ The hierarchical model is a combination of the separated and pooled models. This means that in this exercise, each machine has own mean $\\theta_j$ ($theta[J]$ in Stan code) and common standard deviation $\\sigma^2$ ($sigma$ in Stan code). Furthermore, all the means are controlled by common hyperparameters $\\mu_p$ ($theta0$) and $\\sigma^2_p$ ($sigma0$) which means that the means are drawn from the common distribution described by these hyperparameters.The Stan code below fits the data of each machine ($y[:,j]$) to normal distribution using the machine specific mean drawn from common distribution ($theat[j]$) and common standard deviation ($sigma$). Once the common mean distribution has been computed and the data has been fitted, the learned $theta[j]$ and $sigma$ values can be used to compute the log-likelihood values of each observation ($N=30$) for every posterior draw ($S$). The resulting matrix ($SxN$) is later used in LOO-CV and P LOO-CV."
   ]
  },
  {
   "cell_type": "code",
   "execution_count": 106,
   "metadata": {},
   "outputs": [
    {
     "name": "stdout",
     "output_type": "stream",
     "text": [
      "// Gaussian hierarchical model with common std\n",
      "data {\n",
      "  int<lower=0> N; \t\t\t// Number of observations\n",
      "  int<lower=0> J; \t\t\t// Number of machines\n",
      "  matrix[N,J] y; \t\t\t// N measurements for J machines\n",
      "}\n",
      "parameters {\n",
      "  real theta0;\t\t\t\t// Common theta for each J machine's theta\n",
      "  real<lower=0> sigma0;\t\t\t// Common std for each J machines theta\n",
      "  real theta[J];\t\t\t// Machine specific theta\n",
      "  real<lower=0> sigma;\t\t\t// Common std\n",
      "}\n",
      "model {\n",
      "  for (j in 1:J)\n",
      "    theta[j] ~ normal(theta0, sigma0);\t// Model for computing machine specific theta from common theta0 and sigma0\n",
      "  for (j in 1:J)\n",
      "    y[:,j] ~ normal(theta[j], sigma);\t// Model for fitting data using machine specific theta and common std\n",
      "}\n",
      "generated quantities {\n",
      "  matrix[N,J] log_lik;    \n",
      "  real ypred[J];\n",
      "  real theta_new;\n",
      "  real ypred_new;\n",
      "  \n",
      "  for (j in 1:J)\n",
      "     ypred[j] = normal_rng(theta[j], sigma);\t// Predictive distibutions of all the machines\n",
      "  theta_new = normal_rng(theta0, sigma0);\t// Next posterior distribution from commonly learned theta0 and sigma0\n",
      "  ypred_new = normal_rng(theta_new, sigma);\t// Next predictive distibutions of 7th machine\n",
      "  \n",
      "  for (j in 1:J)\n",
      "     for (n in 1:N)\n",
      "        log_lik[n,j] = normal_lpdf(y[n,j] | theta[j], sigma);\n",
      "}\n",
      "\n",
      "\n"
     ]
    }
   ],
   "source": [
    "# Show model\n",
    "with open('stan_code\\\\hierarchical_model.stan') as file:\n",
    "    print(file.read())\n",
    "    \n",
    "# Compile model      \n",
    "hmodel = stan_utility.compile_model('hierarchical_model.stan')\n",
    "\n",
    "# Fit model\n",
    "model_data = dict(N = len(factoryData), \n",
    "                  J= len(factoryData.columns),\n",
    "                  y = factoryData.as_matrix())\n",
    "hfit = hmodel.sampling(data=model_data, seed=194838, chains=6,iter=4000)\n",
    "stan_utility.check_treedepth(hfit)\n",
    "stan_utility.check_energy(hfit)\n",
    "stan_utility.check_div(hfit)\n",
    "print(hfit)"
   ]
  },
  {
   "cell_type": "markdown",
   "metadata": {},
   "source": [
    "### 6.4 PSIS-LOO and $P_{LOO-CV}$ \n",
    "\n",
    "__TO DO!__ The PSIS-LOO values of the models can be computed using provided _psisloo_ function. The function returns observation specific _k_-values and PSIS-LOO-CV values. In addition it return the sum of the PSIS-LOO-CV values, hence the sum of the LOO log desnities:\n",
    "\n",
    "\\begin{equation*}\n",
    "lppd_{loo-cv} = \\sum_{i=1}^{N} log \\left( \\frac{1}{S} \\sum_{s=1}^{S} p(y_i|\\theta^{is}) \\right)\n",
    "\\end{equation*}\n",
    "\n",
    "The estimated effective number of parameters ($P_{LOO-CV}$) in the model is computed as follows:\n",
    "\n",
    "\\begin{equation*}\n",
    "p_{loo-cv} = lppd-lppd_{loo-cv} \n",
    "\\end{equation*}\n",
    "\n",
    "where $lppd$ is the sum of the log densities of the posterior draws:\n",
    "\\begin{equation*}\n",
    "lppd = \\sum_{i=1}^{N} log \\left( \\frac{1}{S} \\sum_{s=1}^{S} p(y_i|\\theta^{s}) \\right)\n",
    "\\end{equation*}\n",
    "\n",
    "\n",
    "All the PSIS-LOO values, estimated effective number of parameters and plotted _k_-values are shown below.\n"
   ]
  },
  {
   "cell_type": "code",
   "execution_count": null,
   "metadata": {},
   "outputs": [],
   "source": [
    "# LPPD: Posterior predictive distribution summarized by the simulation draws of theta^s\n",
    "def compute_LPPD(samples):\n",
    "    lppd_all = 0\n",
    "    samples = np.array(samples)\n",
    "    N = samples.shape[1]\n",
    "    S = samples.shape[0]\n",
    "    for i in range(0,N):\n",
    "        lppd_all += np.log(np.sum(np.exp(samples[:,i]))/S)\n",
    "    return lppd_all\n",
    "\n",
    "# LPPD LOO-CV: Bayesian loo-cv (leave-one-out cross-validation) estimate of out-of-sample predictive fit\n",
    "def compute_PSIS_LOO_values_and_plot_k(samples, model_text='Separate model'):\n",
    "    # Compute bayesian loo-cv using psisloo function\n",
    "    lppd_loo_cv, lppd_loos_cv, lppd_loo_k = psis.psisloo(samples)\n",
    "\n",
    "    #Estimate of the effective number of parameters\n",
    "    p_loo_cv = compute_LPPD(samples) - lppd_loo_cv\n",
    "    \n",
    "    # Plot k-values\n",
    "    plt.scatter(range(0,samples.shape[1]),lppd_loo_k,label=model_text, alpha=0.7)\n",
    "    \n",
    "    return {'loo_cv':lppd_loo_cv, 'loos_cv':lppd_loos_cv, 'loo_k':lppd_loo_k, 'p_loo_cv': p_loo_cv}\n",
    "\n",
    "#Reshape matrix of [SxNxJ] to [Sx(N*J)]\n",
    "def reshape_array(samples):\n",
    "    samples_all = np.array(samples)\n",
    "    S = samples_all.shape[0]\n",
    "    N = samples_all.shape[1]\n",
    "    J = samples_all.shape[2]\n",
    "    samples_reshaped = []\n",
    "    for s in range(0,S):\n",
    "        temp = []\n",
    "        for n in range(0,N):\n",
    "            for j in range(0,J):\n",
    "                temp.append(samples_all[s,n,j])\n",
    "        samples_reshaped.append(temp)\n",
    "    return np.array(samples_reshaped)\n",
    "\n",
    "\n",
    "#samples = sfit.extract(permuted=True)\n",
    "#compute_PSIS_LOO_values_and_plot_k(reshape_array(samples[\"log_lik\"]))\n",
    "\n",
    "# check the number of large (> 0.5) Pareto k estimates\n",
    "#np.sum(ks1 > 0.5)"
   ]
  },
  {
   "cell_type": "markdown",
   "metadata": {},
   "source": [
    "\n",
    "## 7 Predictive performance assessment \n",
    "* Model selection according to the hightest LOO-CV sum\n",
    "* Reliability based on the _k_values: <0.7 ok, <0.5 good\n"
   ]
  },
  {
   "cell_type": "markdown",
   "metadata": {},
   "source": [
    "## 8 Posterior predictive checking \n",
    "* show predictive distributions: all tournaments and new tournament\n",
    "* how to check?? demo6_x\n",
    "\n",
    "run compare_yreds_against_actual_distribution"
   ]
  },
  {
   "cell_type": "code",
   "execution_count": null,
   "metadata": {},
   "outputs": [],
   "source": [
    "#Show predictive distributions for all the machines and for new machine\n",
    "def show_predictive_distributions(samples):\n",
    "    m = 0;\n",
    "   \n",
    "    #First row of plots: machines from 1 to 4\n",
    "    fig, axes = plt.subplots(1, 4, sharey=True,figsize=(16,4), subplot_kw=dict(aspect='auto'))\n",
    "    fig.suptitle('Predictive distributions of the machines')\n",
    "    for i in range(0,4):\n",
    "        axes[i].set_title('Machine '+str(m+1))\n",
    "        mu = np.mean(samples[\"ypred\"][:,m])\n",
    "        if mu<85:\n",
    "            axes[i].hist(samples[\"ypred\"][:,m],50, density=True, alpha=0.3, color='R')\n",
    "        else:\n",
    "            axes[i].hist(samples[\"ypred\"][:,m],50, density=True, alpha=0.7)\n",
    "        axes[i].plot([85,85],[0.027, 0],'-',color='K',linewidth=1.5, label=r'$\\theta=85$')\n",
    "        axes[i].plot([mu,mu],[0.027, 0],'--',color='K', linewidth=1.5, label=r'$\\theta$ mean')\n",
    "        m+=1\n",
    "        axes[i].legend()\n",
    "    plt.show()   \n",
    "    \n",
    "    #Second row of plots: machines from 5 to 6 and new machine (7th)\n",
    "    fig, axes = plt.subplots(1, 3, sharey=True,figsize=(12,4), subplot_kw=dict(aspect='auto'))\n",
    "    for i in range(0,2):\n",
    "        axes[i].set_title('Machine '+str(m+1))\n",
    "        mu = np.mean(samples[\"ypred\"][:,m])\n",
    "        if mu<85:\n",
    "            axes[i].hist(samples[\"ypred\"][:,m],50, density=True, alpha=0.3, color='R')\n",
    "        else:\n",
    "            axes[i].hist(samples[\"ypred\"][:,m],50, density=True, alpha=0.7)\n",
    "        axes[i].plot([85,85],[0.027, 0],'-',color='K',linewidth=1.5, label=r'$\\theta=85$')\n",
    "        axes[i].plot([mu,mu],[0.027, 0],'--',color='K', linewidth=1.5, label=r'$\\theta$ mean')\n",
    "        m+=1\n",
    "        axes[i].legend()\n",
    "\n",
    "    i=2\n",
    "    axes[i].set_title('Machine '+str(m+1))\n",
    "    mu = np.mean(samples[\"ypred7\"])\n",
    "    if mu<85:\n",
    "        axes[i].hist(samples[\"ypred7\"],50, density=True, alpha=0.3, color='R')\n",
    "    else:\n",
    "        axes[i].hist(samples[\"ypred7\"],50, density=True, alpha=0.7)\n",
    "    axes[i].plot([85,85],[0.027, 0],'-',color='K',linewidth=1.5, label=r'$\\theta=85$')\n",
    "    axes[i].plot([mu,mu],[0.027, 0],'--',color='K', linewidth=1.5, label=r'$\\theta$ mean')\n",
    "    axes[i].legend()\n",
    "    plt.show()   "
   ]
  },
  {
   "cell_type": "markdown",
   "metadata": {},
   "source": [
    "\n",
    "## 9 Sensitivity analysis (?)\n",
    "* on the priors \n",
    "* and the model (ask ta)\n"
   ]
  },
  {
   "cell_type": "markdown",
   "metadata": {},
   "source": [
    "## 10 Conclusion\n",
    "* problems: \n",
    " - data model is not 100& justifiable \n",
    "* potential improvements\n",
    " - data model can be modified so that multinomial can be used for likelihood\n",
    " - extensive experiment with binomial model\n",
    "* discussion\n",
    " - it's accurate\n",
    "* conclusion of the data analysis\n",
    "* Is there a discussion of problems and potential improvements ?"
   ]
  },
  {
   "cell_type": "markdown",
   "metadata": {},
   "source": [
    "___\n",
    "\n",
    "# EXTRA TEST"
   ]
  },
  {
   "cell_type": "code",
   "execution_count": 3,
   "metadata": {},
   "outputs": [
    {
     "name": "stdout",
     "output_type": "stream",
     "text": [
      "[[0, 0, 0], [3, 10, 13], [2, 6, 8], [1, 8, 9], [2, 5, 7], [3, 7, 10], [3, 8, 11], [5, 6, 11], [5, 1, 6], [2, 1, 3], [3, 3, 6], [30, 0, 30], [0, 0, 0], [5, 3, 8], [5, 0, 5], [10, 4, 14], [10, 5, 15], [15, 1, 16], [5, 3, 8], [4, 0, 4], [5, 1, 6], [0, 0, 0], [17, 4, 21]]\n",
      "23\n",
      "{'-11': [], '-10': [0.0, 1.0, 1.0, 0.0, 1.0, 0.0, 0.0, 0.0, 0.0, 0.0, 0.0, 0.0, 0.0], '-9': [0.0, 0.0, 0.0, 0.0, 0.0, 0.0, 1.0, 1.0], '-8': [0.0, 0.0, 1.0, 0.0, 0.0, 0.0, 0.0, 0.0, 0.0], '-7': [0.0, 1.0, 1.0, 0.0, 0.0, 0.0, 0.0], '-6': [1.0, 0.0, 1.0, 0.0, 0.0, 0.0, 0.0, 0.0, 1.0, 0.0], '-5': [0.0, 0.0, 0.0, 1.0, 0.0, 0.0, 1.0, 0.0, 0.0, 0.0, 1.0], '-4': [0.0, 1.0, 1.0, 1.0, 0.0, 0.0, 0.0, 0.0, 0.0, 1.0, 1.0], '-3': [1.0, 0.0, 1.0, 1.0, 1.0, 1.0], '-2': [0.0, 1.0, 1.0], '-1': [1.0, 1.0, 0.0, 0.0, 0.0, 1.0], '0': [1.0, 1.0, 1.0, 1.0, 1.0, 1.0, 1.0, 1.0, 1.0, 1.0, 1.0, 1.0, 1.0, 1.0, 1.0, 1.0, 1.0, 1.0, 1.0, 1.0, 1.0, 1.0, 1.0, 1.0, 1.0, 1.0, 1.0, 1.0, 1.0, 1.0], '1': [], '2': [0.0, 1.0, 0.0, 0.0, 1.0, 1.0, 1.0, 1.0], '3': [1.0, 1.0, 1.0, 1.0, 1.0], '4': [1.0, 1.0, 0.0, 0.0, 1.0, 1.0, 1.0, 1.0, 1.0, 0.0, 1.0, 1.0, 1.0, 0.0], '5': [1.0, 1.0, 0.0, 1.0, 0.0, 1.0, 1.0, 1.0, 0.0, 0.0, 0.0, 1.0, 1.0, 1.0, 1.0], '6': [1.0, 1.0, 1.0, 1.0, 1.0, 1.0, 0.0, 1.0, 1.0, 1.0, 1.0, 1.0, 1.0, 1.0, 1.0, 1.0], '7': [1.0, 0.0, 1.0, 1.0, 1.0, 0.0, 0.0, 1.0], '8': [1.0, 1.0, 1.0, 1.0], '9': [1.0, 1.0, 1.0, 1.0, 1.0, 0.0], '10': [], '11': [0.0, 1.0, 1.0, 1.0, 0.0, 1.0, 1.0, 1.0, 1.0, 1.0, 1.0, 1.0, 0.0, 0.0, 1.0, 1.0, 1.0, 1.0, 1.0, 1.0, 1.0]}\n"
     ]
    }
   ],
   "source": [
    "raw_data = np.loadtxt('data.txt')\n",
    "\n",
    "# Aggregate raw result\n",
    "aggregated_result = {}\n",
    "for i in range(-11,12):\n",
    "    aggregated_result[str(i)] = []\n",
    "\n",
    "for (spread, result) in raw_data:\n",
    "    key = str(int(spread))\n",
    "    aggregated_result[key].append(result)\n",
    "        \n",
    "# Turn to 23 x 3 matrix, where columns are win, lose, number of games, and rows are the possible spread\n",
    "data_matrix = []\n",
    "for key, value in aggregated_result.items():\n",
    "    total = len(value)\n",
    "    win = len([i for i in value if i > 0])\n",
    "    data_matrix.append([win, total - win, total])\n",
    "\n",
    "print(data_matrix)\n",
    "print(len(data_matrix))\n",
    "print(aggregated_result)"
   ]
  },
  {
   "cell_type": "code",
   "execution_count": null,
   "metadata": {},
   "outputs": [],
   "source": []
  },
  {
   "cell_type": "code",
   "execution_count": 97,
   "metadata": {
    "scrolled": false
   },
   "outputs": [
    {
     "name": "stdout",
     "output_type": "stream",
     "text": [
      "   -11  -10  -9   -8   -7   -6   -5   -4   -3   -2  ...    2    3    4    5   \\\n",
      "1    0    7    4    6    3    5    6    4    0    1 ...     1    0    3    3   \n",
      "2    0    2    1    0    1    1    2    0    0    0 ...     1    0    0    1   \n",
      "3    0    1    1    2    1    1    0    2    1    0 ...     1    0    1    1   \n",
      "4    0    0    0    1    1    1    1    2    2    0 ...     2    2    3    2   \n",
      "5    0    1    1    0    0    1    0    0    1    1 ...     1    0    1    0   \n",
      "6    0    2    1    0    1    1    2    3    2    1 ...     2    3    6    8   \n",
      "\n",
      "    6    7    8    9    10   11  \n",
      "1    1    2    0    0    0    2  \n",
      "2    0    0    0    0    0    1  \n",
      "3    0    1    0    1    0    1  \n",
      "4    1    1    0    1    0    6  \n",
      "5    1    1    0    0    0    2  \n",
      "6   13    3    4    4    0    9  \n",
      "\n",
      "[6 rows x 23 columns]\n"
     ]
    }
   ],
   "source": [
    "# Read data and convert it to matrix with dimensions [6x23]\n",
    "raw_data = pd.read_csv('data.txt', sep=\" \", header=None)\n",
    "raw_data.columns = ['spread','win']\n",
    "raw_data = raw_data.groupby(['spread', 'win']).size().reset_index(name='counts')\n",
    "\n",
    "\n",
    "data_json = {i: [0 for j in range(-11,12)] for i in range(1,7)}\n",
    "for index, row in raw_data.iterrows():\n",
    "    data_json[row['win']][11+row['spread']] = row['counts']\n",
    "\n",
    "data = pd.DataFrame(data=data_json)\n",
    "def getRowText():\n",
    "    j=-11\n",
    "    c = {}\n",
    "    for i in range(0,23):\n",
    "        c[i] = j\n",
    "        j += 1\n",
    "    return c\n",
    "\n",
    "data.rename(index=getRowText(), inplace=True)\n",
    "data = data.T\n",
    "print(data)"
   ]
  },
  {
   "cell_type": "code",
   "execution_count": 103,
   "metadata": {},
   "outputs": [
    {
     "data": {
      "text/plain": [
       "array([ 0, 10,  6,  8,  5,  7,  8,  6,  1,  1,  3,  0,  0,  3,  0,  4,  5,\n",
       "        1,  3,  0,  1,  0,  4], dtype=int64)"
      ]
     },
     "execution_count": 103,
     "metadata": {},
     "output_type": "execute_result"
    }
   ],
   "source": [
    "def convertData(dataset):\n",
    "    win = dataset[0:3].sum(axis=0).values \n",
    "    lose = dataset[3:7].sum(axis=0).values \n",
    "    return np.array([win,lose])\n",
    "\n",
    "tt = convertData(data)\n"
   ]
  },
  {
   "cell_type": "code",
   "execution_count": null,
   "metadata": {},
   "outputs": [],
   "source": [
    "# Data #######\n",
    "raw_data = pd.read_csv('kristel.txt', sep=\" \", header=None)\n",
    "print(raw_data)\n",
    "\n",
    "\n",
    "highest_frequency = max([8,8,7,7,6,6,5,5,4,3,2])+2\n",
    "#data = dict(N=11, n=[highest_frequency for i in range(0,11)], \n",
    "#            y=np.array(list(reversed([8,8,7,7,6,6,5,5,4,3,2]))), x=[1,2,3,4,5,6,7,8,9,10,11])\n",
    "data = dict(r=23, c=3, y=data_matrix)\n",
    "\n",
    "def fit_model(model_code='stan_code\\\\binom-logistic-regression.stan'):\n",
    "    model = stan_utility.compile_model(model_code)\n",
    "    fit = model.sampling(data=data, seed=194838, chains=4, iter=4000)\n",
    "    samples = fit.extract(permuted=True)\n",
    "    print(fit)\n",
    "    stan_utility.check_treedepth(fit)\n",
    "    stan_utility.check_energy(fit)\n",
    "    stan_utility.check_div(fit)\n",
    "    return samples"
   ]
  },
  {
   "cell_type": "code",
   "execution_count": 4,
   "metadata": {},
   "outputs": [
    {
     "name": "stdout",
     "output_type": "stream",
     "text": [
      "// Binomial model with linear fit prior\n",
      "data {\n",
      "  int<lower=0> N;\n",
      "  int n[N];  //Number of trials per spread\n",
      "  row_vector[N] x; //Spreads\n",
      "  int y[N];  //Number of successes per spread\n",
      "}\n",
      "parameters {\n",
      "  real alpha; \n",
      "  real beta; \n",
      "}\n",
      "transformed parameters {\n",
      "  row_vector[N] p;\n",
      "  p=inv_logit(alpha + beta*x);\n",
      "}\n",
      "model {\n",
      "  y ~ binomial(n,p); //Note! Probabilities should be constrained to lie between 0 and 1.\n",
      "}\n",
      "generated quantities {\n",
      " vector[N] y_rep;\n",
      " for(i in 1:N){\n",
      "  y_rep[i] <- binomial_rng(n[i],p[i]); //posterior draws to get posterior predictive checks\n",
      " }\n",
      "}\n"
     ]
    }
   ],
   "source": [
    "# Models\n",
    "with open('stan_code\\\\binom-logistic-regression.stan') as file:\n",
    "    print(file.read())"
   ]
  },
  {
   "cell_type": "code",
   "execution_count": 6,
   "metadata": {
    "scrolled": false
   },
   "outputs": [],
   "source": [
    "# logistic_samples = fit_model('stan_code\\\\binom-logistic-regression.stan')"
   ]
  },
  {
   "cell_type": "code",
   "execution_count": 34,
   "metadata": {},
   "outputs": [
    {
     "name": "stderr",
     "output_type": "stream",
     "text": [
      "INFO:pystan:COMPILING THE C++ CODE FOR MODEL anon_model_64050bdb4345f8556d8cea2a5498a672 NOW.\n",
      "C:\\Users\\phuct\\Miniconda3\\envs\\stan\\lib\\site-packages\\Cython\\Compiler\\Main.py:367: FutureWarning: Cython directive 'language_level' not set, using 2 for now (Py2). This will change in a later release! File: C:\\Users\\phuct\\AppData\\Local\\Temp\\tmp73xard5o\\stanfit4anon_model_64050bdb4345f8556d8cea2a5498a672_4005347848322932037.pyx\n",
      "  tree = Parsing.p_module(s, pxd, full_module_name)\n"
     ]
    },
    {
     "name": "stdout",
     "output_type": "stream",
     "text": [
      "Inference for Stan model: anon_model_64050bdb4345f8556d8cea2a5498a672.\n",
      "4 chains, each with iter=4000; warmup=2000; thin=1; \n",
      "post-warmup draws per chain=2000, total post-warmup draws=8000.\n",
      "\n",
      "           mean se_mean     sd   2.5%    25%    50%    75%  97.5%  n_eff   Rhat\n",
      "theta[1]   0.34  3.0e-3   0.24   0.01   0.13    0.3   0.51   0.85   6501    1.0\n",
      "theta[2]   0.33  2.8e-3   0.23   0.01   0.13   0.29   0.49   0.83   6903    1.0\n",
      "theta[3]   0.33  3.1e-3   0.24   0.01   0.13   0.29    0.5   0.85   5906    1.0\n",
      "lp__       -4.5    0.02   1.15  -7.65  -4.99  -4.15  -3.66  -3.33   3026    1.0\n",
      "\n",
      "Samples were drawn using NUTS at Thu Nov 29 14:00:15 2018.\n",
      "For each parameter, n_eff is a crude measure of effective sample size,\n",
      "and Rhat is the potential scale reduction factor on split chains (at \n",
      "convergence, Rhat=1).\n",
      "0 of 8000 iterations saturated the maximum tree depth of 10 (0.0%)\n",
      "0.0 of 8000 iterations ended with a divergence (0.0%)\n"
     ]
    }
   ],
   "source": [
    "logistic_samples = fit_model('stan_code\\\\multinomial.stan')"
   ]
  },
  {
   "cell_type": "code",
   "execution_count": null,
   "metadata": {},
   "outputs": [],
   "source": []
  },
  {
   "cell_type": "code",
   "execution_count": 9,
   "metadata": {},
   "outputs": [],
   "source": [
    "####### Multinomial #######\n",
    "\n",
    "\n",
    "\n",
    "\n"
   ]
  },
  {
   "cell_type": "code",
   "execution_count": null,
   "metadata": {},
   "outputs": [],
   "source": []
  },
  {
   "cell_type": "code",
   "execution_count": 16,
   "metadata": {},
   "outputs": [
    {
     "data": {
      "image/png": "[encoded data removed]",
      "text/plain": [
       "<Figure size 864x288 with 1 Axes>"
      ]
     },
     "metadata": {
      "needs_background": "light"
     },
     "output_type": "display_data"
    }
   ],
   "source": [
    "def show_model_fit(x, y, mu):    \n",
    "    figsize = plt.rcParams['figure.figsize'].copy()\n",
    "    figsize[0] *= 2  # width\n",
    "    fig, ax = plt.subplots(1, 1, figsize=figsize)\n",
    "\n",
    "    # scatterplot and lines\n",
    "    color_scatter = 'C0'  # 'C0' for default color #0\n",
    "    color_line = 'C1'     # 'C1' for default color #1\n",
    "    # lighten color_line\n",
    "    color_shade = (1 - 0.1*(1 - np.array(mpl.colors.to_rgb(color_line))))\n",
    "    # plot\n",
    "    ax.fill_between(\n",
    "        x,\n",
    "        np.percentile(mu, 5, axis=0),\n",
    "        np.percentile(mu, 95, axis=0),\n",
    "        color=color_shade\n",
    "    )\n",
    "    ax.plot(\n",
    "        x,\n",
    "        np.percentile(mu, 50, axis=0),\n",
    "        color=color_line,\n",
    "        linewidth=1\n",
    "    )\n",
    "    ax.scatter(x, y, 5, color=color_scatter)\n",
    "    ax.set_xlabel('Spread')\n",
    "    ax.set_ylabel('Normalized frequency')\n",
    "    ax.set_title('Wins per spread')\n",
    "    plt.show()\n",
    "    \n",
    "show_model_fit(data[\"x\"],data[\"y\"]/np.array([highest_frequency]), logistic_samples['p'])"
   ]
  },
  {
   "cell_type": "code",
   "execution_count": null,
   "metadata": {},
   "outputs": [],
   "source": []
  },
  {
   "cell_type": "code",
   "execution_count": null,
   "metadata": {},
   "outputs": [],
   "source": []
  },
  {
   "cell_type": "code",
   "execution_count": 17,
   "metadata": {
    "scrolled": false
   },
   "outputs": [
    {
     "data": {
      "image/png": "[encoded data removed]",
      "text/plain": [
       "<Figure size 432x288 with 1 Axes>"
      ]
     },
     "metadata": {
      "needs_background": "light"
     },
     "output_type": "display_data"
    },
    {
     "data": {
      "image/png": "[encoded data removed]",
      "text/plain": [
       "<Figure size 432x288 with 1 Axes>"
      ]
     },
     "metadata": {
      "needs_background": "light"
     },
     "output_type": "display_data"
    },
    {
     "data": {
      "text/plain": [
       "'plt.scatter(data[\"x\"],data[\"y\"]/np.array([highest_frequency]))\\ndef calc(a,b,xp):\\n    return np.exp(a + b*xp)/(1 + np.exp(a + b*xp))'"
      ]
     },
     "execution_count": 17,
     "metadata": {},
     "output_type": "execute_result"
    }
   ],
   "source": [
    "\"\"\"from scipy import stats\n",
    "for i in range(0,11):\n",
    "    mu = np.mean(logistic_samples['y_rep'][:,i])\n",
    "    std = np.std(logistic_samples['y_rep'][:,i])\n",
    "    x = np.linspace(0,11,100)\n",
    "    plt.plot(x, stats.norm(mu,std).pdf(x))\n",
    "    #plt.hist(logistic_samples['y_rep'][:,i], alpha=0.2, density=True)\n",
    "plt.show()\n",
    "\"\"\"\n",
    "\n",
    "\n",
    "plt.scatter(logistic_samples[\"alpha\"],logistic_samples[\"beta\"])\n",
    "plt.show();\n",
    "plt.hist(logistic_samples[\"alpha\"], bins=50)\n",
    "plt.hist(logistic_samples[\"beta\"], bins=50)\n",
    "plt.show();\n",
    "\n",
    "\"\"\"plt.scatter(data[\"x\"],data[\"y\"]/np.array([highest_frequency]))\n",
    "def calc(a,b,xp):\n",
    "    return np.exp(a + b*xp)/(1 + np.exp(a + b*xp))\"\"\""
   ]
  }
 ],
 "metadata": {
  "kernelspec": {
   "display_name": "Python 3",
   "language": "python",
   "name": "python3"
  },
  "language_info": {
   "codemirror_mode": {
    "name": "ipython",
    "version": 3
   },
   "file_extension": ".py",
   "mimetype": "text/x-python",
   "name": "python",
   "nbconvert_exporter": "python",
   "pygments_lexer": "ipython3",
   "version": "3.7.1"
  }
 },
 "nbformat": 4,
 "nbformat_minor": 2
}
