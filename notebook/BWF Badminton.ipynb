{
 "cells": [
  {
   "cell_type": "markdown",
   "metadata": {},
   "source": [
    "# Bayesian Data Analysis - Project\n",
    "___\n",
    "\n",
    "__Note!__ The submitted notebooks need to illustrate the knowledge of the Bayesian workflow\n",
    "\n",
    "__RUBRIC:__ \n",
    "* The introduction is inviting, presents an overview of the notebook. Information is relevant and presented in a logical order.\n",
    "* The conclusion is clear\n",
    "* The notebook presents a clear cohesive data analysis story, which is enjoyable to read\n",
    "* Accuracy of use of statistical terms: Statistical terms are used accurately and with clarity \n",
    "* Description of the data, and the analysis problem\n",
    "* Description of the model\n",
    "* Description of the prior choices: Priors are listed and justiﬁed\n",
    "* Is Stan code included?\n",
    "* Is code for how Stan model is run included?\n",
    "*  Is required convergence diagnostics (Rhat, divergences, neff) included?: Required onvergence diagnostic results shown and maning of the results is discussed\n",
    "* Is there posterior predictive checking?\n",
    "*  Is there a discussion of problems and potential improvements ?\n",
    "___\n"
   ]
  },
  {
   "cell_type": "markdown",
   "metadata": {},
   "source": [
    "## 1 Introduction\n",
    "\n",
    "**Goal**: predict the outcome of a badminton match based on the ranking different between players\n",
    "\n",
    "**Approach**: apply Bayesian data analysis on historical data of badminton tournaments. The estimand of interest is the probability of winning with a certain ranking spread.\n",
    "\n",
    "**Implementation**:\n",
    "* Start with some naive assumption of the estimand, in order to choose the model later\n",
    "* Collect and preprocess data\n",
    "* Decide on prior choices and models\n",
    "* Do stan analysis on each models\n",
    "* Model comparision (using PSIS-LOO)\n",
    "* Do posterior predictive comparision between models\n",
    "* Conclusion, possible improvements\n",
    "\n",
    "\n"
   ]
  },
  {
   "cell_type": "markdown",
   "metadata": {},
   "source": [
    "## 2 Analysis problem\n",
    "\n",
    "### 2.1 Discretizing the problem\n",
    "In one tournament, there are 8 seed players and some unranked players. To discretize the ranking spread, we chose 12th as the rank for all unranked players. The spread is calculated as follows:\n",
    "\n",
    "**Spread (from 1st player perspective) = Rank(2nd player) - Rank(1st player)**\n",
    "\n",
    "E.g.\n",
    "\n",
    "* Spread(from 1st rank player to 8th rank player) = 8 - 1 = 7\n",
    "* Spread(from 2nd rank player to unrank player) = 12 - 2 = 10\n",
    "* Spread(from unrank player to 3rd rank player) = 3 - 12 = -9\n",
    "\n",
    "The discrete space for ranking spread is then **[-11,-10,-9,...,9,10,11]**\n",
    "\n",
    "A match (which has at most 3 games) has 6 possible outcomes:\n",
    "1. Lose Lose     -> Lose\n",
    "2. Lose Win Lose -> Lose\n",
    "3. Win Lose Lose -> Lose\n",
    "4. Lose Win Win  -> Win\n",
    "5. Win Lose Win  -> Win\n",
    "6. Win Win       -> Win \n",
    "\n",
    "To discretize this parameter, we map the outcome of a match to **[1,2,3,4,5,6]** in terms of win degree (i.e. win degree 1 is the worst, and win degree 6 is the best)\n",
    "\n",
    "\n",
    "For the match below, ranking spread is 11, win degree is 4\n",
    "\n",
    "<img src=\"match_beautified.png\" alt=\"match\" style=\"width: 600px; margin-left: 0\"/>\n",
    "\n",
    "### 2.2 Modeling the problem\n",
    "\n",
    "Unless stated otherwise, all information in the data are from 1st player perspective\n",
    "An observation of a match includes 2 pieces of information:\n",
    "* ranking spread\n",
    "* win degree\n",
    "\n",
    "To formulate the observations as a one dimensional space collection, we need to reduce the matrix 23x6 (23 different spreads, 6 different win degrees) of all possible raw observations. The intuition of the reduction is as follows:\n",
    "* With the same ranking spread, higher win degree correlates to higher value (see arrow A in image below)\n",
    "* With the same win degree, lower ranking spread correlates to higher value (see arrow B in image below)\n",
    "* Step between value is 1\n",
    "\n",
    "With the given constraint, we will have **46 possible values of observation from [1,46]**. The mapping is as follow (columns are win degrees and rows are ranking spreads)\n",
    "\n",
    "<img src=\"mapping3.jpg\" alt=\"mapping\" style=\"width: 400px; margin-left: 0\"/>\n",
    "\n",
    "### 2.3 Analysing the problem\n",
    "\n",
    "The analysis problem is the distribution of observations and how they differ between different tournaments. Furthermore, we will also try and the analyze the affect of different models and priors choice.\n"
   ]
  },
  {
   "cell_type": "markdown",
   "metadata": {},
   "source": [
    "## 3 Dataset and data model\n",
    "\n",
    "The dataset is collected from Badminton World Federation (BWF) tournament database using Scrapy crawler. After collecting, the data is preprocessed as stated in the previous section. In the end, the format of data is similar to the factory data assignments. A peek of the data:"
   ]
  },
  {
   "cell_type": "code",
   "execution_count": 8,
   "metadata": {},
   "outputs": [
    {
     "data": {
      "text/html": [
       "<div>\n",
       "<style scoped>\n",
       "    .dataframe tbody tr th:only-of-type {\n",
       "        vertical-align: middle;\n",
       "    }\n",
       "\n",
       "    .dataframe tbody tr th {\n",
       "        vertical-align: top;\n",
       "    }\n",
       "\n",
       "    .dataframe thead th {\n",
       "        text-align: right;\n",
       "    }\n",
       "</style>\n",
       "<table border=\"1\" class=\"dataframe\">\n",
       "  <thead>\n",
       "    <tr style=\"text-align: right;\">\n",
       "      <th></th>\n",
       "      <th>Tournament 1</th>\n",
       "      <th>Tournament 2</th>\n",
       "      <th>Tournament 3</th>\n",
       "      <th>Tournament 4</th>\n",
       "      <th>Tournament 5</th>\n",
       "    </tr>\n",
       "  </thead>\n",
       "  <tbody>\n",
       "    <tr>\n",
       "      <th>Match 1</th>\n",
       "      <td>24.0</td>\n",
       "      <td>35.0</td>\n",
       "      <td>34.0</td>\n",
       "      <td>24.0</td>\n",
       "      <td>19.0</td>\n",
       "    </tr>\n",
       "    <tr>\n",
       "      <th>Match 2</th>\n",
       "      <td>33.0</td>\n",
       "      <td>33.0</td>\n",
       "      <td>35.0</td>\n",
       "      <td>31.0</td>\n",
       "      <td>35.0</td>\n",
       "    </tr>\n",
       "    <tr>\n",
       "      <th>Match 3</th>\n",
       "      <td>34.0</td>\n",
       "      <td>25.0</td>\n",
       "      <td>22.0</td>\n",
       "      <td>35.0</td>\n",
       "      <td>23.0</td>\n",
       "    </tr>\n",
       "    <tr>\n",
       "      <th>Match 4</th>\n",
       "      <td>33.0</td>\n",
       "      <td>31.0</td>\n",
       "      <td>35.0</td>\n",
       "      <td>35.0</td>\n",
       "      <td>31.0</td>\n",
       "    </tr>\n",
       "    <tr>\n",
       "      <th>Match 5</th>\n",
       "      <td>37.0</td>\n",
       "      <td>38.0</td>\n",
       "      <td>38.0</td>\n",
       "      <td>33.0</td>\n",
       "      <td>35.0</td>\n",
       "    </tr>\n",
       "  </tbody>\n",
       "</table>\n",
       "</div>"
      ],
      "text/plain": [
       "         Tournament 1  Tournament 2  Tournament 3  Tournament 4  Tournament 5\n",
       "Match 1          24.0          35.0          34.0          24.0          19.0\n",
       "Match 2          33.0          33.0          35.0          31.0          35.0\n",
       "Match 3          34.0          25.0          22.0          35.0          23.0\n",
       "Match 4          33.0          31.0          35.0          35.0          31.0\n",
       "Match 5          37.0          38.0          38.0          33.0          35.0"
      ]
     },
     "execution_count": 8,
     "metadata": {},
     "output_type": "execute_result"
    }
   ],
   "source": [
    "show_first_rows_of_data()"
   ]
  },
  {
   "cell_type": "code",
   "execution_count": 9,
   "metadata": {},
   "outputs": [
    {
     "data": {
      "text/html": [
       "<div>\n",
       "<style scoped>\n",
       "    .dataframe tbody tr th:only-of-type {\n",
       "        vertical-align: middle;\n",
       "    }\n",
       "\n",
       "    .dataframe tbody tr th {\n",
       "        vertical-align: top;\n",
       "    }\n",
       "\n",
       "    .dataframe thead th {\n",
       "        text-align: right;\n",
       "    }\n",
       "</style>\n",
       "<table border=\"1\" class=\"dataframe\">\n",
       "  <thead>\n",
       "    <tr style=\"text-align: right;\">\n",
       "      <th></th>\n",
       "      <th>Tournament 1</th>\n",
       "      <th>Tournament 2</th>\n",
       "      <th>Tournament 3</th>\n",
       "      <th>Tournament 4</th>\n",
       "      <th>Tournament 5</th>\n",
       "    </tr>\n",
       "  </thead>\n",
       "  <tbody>\n",
       "    <tr>\n",
       "      <th>count</th>\n",
       "      <td>67.000000</td>\n",
       "      <td>67.000000</td>\n",
       "      <td>67.000000</td>\n",
       "      <td>67.000000</td>\n",
       "      <td>67.000000</td>\n",
       "    </tr>\n",
       "    <tr>\n",
       "      <th>mean</th>\n",
       "      <td>31.776119</td>\n",
       "      <td>32.388060</td>\n",
       "      <td>31.746269</td>\n",
       "      <td>32.880597</td>\n",
       "      <td>32.164179</td>\n",
       "    </tr>\n",
       "    <tr>\n",
       "      <th>std</th>\n",
       "      <td>5.746727</td>\n",
       "      <td>5.635266</td>\n",
       "      <td>5.329572</td>\n",
       "      <td>5.878885</td>\n",
       "      <td>5.703792</td>\n",
       "    </tr>\n",
       "    <tr>\n",
       "      <th>min</th>\n",
       "      <td>22.000000</td>\n",
       "      <td>21.000000</td>\n",
       "      <td>22.000000</td>\n",
       "      <td>21.000000</td>\n",
       "      <td>19.000000</td>\n",
       "    </tr>\n",
       "    <tr>\n",
       "      <th>25%</th>\n",
       "      <td>27.000000</td>\n",
       "      <td>28.000000</td>\n",
       "      <td>26.000000</td>\n",
       "      <td>28.000000</td>\n",
       "      <td>28.000000</td>\n",
       "    </tr>\n",
       "    <tr>\n",
       "      <th>50%</th>\n",
       "      <td>33.000000</td>\n",
       "      <td>33.000000</td>\n",
       "      <td>33.000000</td>\n",
       "      <td>34.000000</td>\n",
       "      <td>34.000000</td>\n",
       "    </tr>\n",
       "    <tr>\n",
       "      <th>75%</th>\n",
       "      <td>35.000000</td>\n",
       "      <td>36.000000</td>\n",
       "      <td>35.000000</td>\n",
       "      <td>35.000000</td>\n",
       "      <td>35.000000</td>\n",
       "    </tr>\n",
       "    <tr>\n",
       "      <th>max</th>\n",
       "      <td>43.000000</td>\n",
       "      <td>45.000000</td>\n",
       "      <td>44.000000</td>\n",
       "      <td>45.000000</td>\n",
       "      <td>45.000000</td>\n",
       "    </tr>\n",
       "  </tbody>\n",
       "</table>\n",
       "</div>"
      ],
      "text/plain": [
       "       Tournament 1  Tournament 2  Tournament 3  Tournament 4  Tournament 5\n",
       "count     67.000000     67.000000     67.000000     67.000000     67.000000\n",
       "mean      31.776119     32.388060     31.746269     32.880597     32.164179\n",
       "std        5.746727      5.635266      5.329572      5.878885      5.703792\n",
       "min       22.000000     21.000000     22.000000     21.000000     19.000000\n",
       "25%       27.000000     28.000000     26.000000     28.000000     28.000000\n",
       "50%       33.000000     33.000000     33.000000     34.000000     34.000000\n",
       "75%       35.000000     36.000000     35.000000     35.000000     35.000000\n",
       "max       43.000000     45.000000     44.000000     45.000000     45.000000"
      ]
     },
     "execution_count": 9,
     "metadata": {},
     "output_type": "execute_result"
    }
   ],
   "source": [
    "show_summary_of_data()"
   ]
  },
  {
   "cell_type": "markdown",
   "metadata": {},
   "source": [
    "## 4 Prior choices\n",
    "\n",
    "We decided to use two different priors: \n",
    "* **Inverse gamma** is chosen on variance because it is the conjugate prior to normal likelihood and it has a closed form solution for the outcome of the posterior\n",
    "* **Uniform** is chosen as weak prior to observe how sensitive is outcome in regards the prior and the data input"
   ]
  },
  {
   "cell_type": "markdown",
   "metadata": {},
   "source": [
    "## 5 Model\n",
    "\n",
    "Prior:\n",
    "\n",
    "\\begin{equation*}\n",
    " \\tilde N()\n",
    "\\end{equation*}\n",
    "\n",
    "\n",
    "Likelihood:\n",
    "\n",
    "Posterior:\n",
    "\n",
    "# kristel will do the above\n",
    "\n",
    "Since one of the objective is to predict the distribution of a new tournament, separate model is excluded because it can't be used to make prediction. Then based on the prior choices we have 4 different models:\n",
    "* pooled with uniform prior\n",
    "* pooled with inverse gamma prior for variance\n",
    "* hierarchical with uniform prior\n",
    "* hierarchical with inverse gamma prior for variance\n",
    "\n",
    "\n",
    "__TO DO!__ In the pooled model the mean ($theta$ in the Stan code) and the deviation ($sigma$ in the Stan code) is computed from the combined data of all machines. The combined data means that the data of the machines are common and no distinction between machines can be made. In this model, the same Stan code can be used (detailed description can be found from section 8.1).\n",
    "\n",
    "__TO DO!__ The hierarchical model is a combination of the separated and pooled models. This means that in this exercise, each machine has own mean $\\theta_j$ ($theta[J]$ in Stan code) and common standard deviation $\\sigma^2$ ($sigma$ in Stan code). Furthermore, all the means are controlled by common hyperparameters $\\mu_p$ ($theta0$) and $\\sigma^2_p$ ($sigma0$) which means that the means are drawn from the common distribution described by these hyperparameters.The Stan code below fits the data of each machine ($y[:,j]$) to normal distribution using the machine specific mean drawn from common distribution ($theat[j]$) and common standard deviation ($sigma$). Once the common mean distribution has been computed and the data has been fitted, the learned $theta[j]$ and $sigma$ values can be used to compute the log-likelihood values of each observation ($N=30$) for every posterior draw ($S$). The resulting matrix ($SxN$) is later used in LOO-CV and P LOO-CV."
   ]
  },
  {
   "cell_type": "markdown",
   "metadata": {},
   "source": [
    "## 6 Stan analysis of the models\n",
    "\n",
    "For each model, we will show:\n",
    "* Stan model\n",
    "* Convergence diagnostics (rhat, divergences, neff)\n",
    "Print stan code, fit model and do convergence diagnostic:  \n",
    "* n_effs are high and Rhats<1.1, which is good\n",
    "* Next we check divergences, E-BMFI and treedepth exceedences as explained in Robust Statistical Workflow with PyStan Case Study by Michael Betancourt.\n",
    "*  Everything is fine based on these diagnostics and we can proceed with our analysis.\n",
    "\n",
    "\n",
    "### 6.1 Pooled model\n",
    "\n"
   ]
  },
  {
   "cell_type": "code",
   "execution_count": 5,
   "metadata": {},
   "outputs": [],
   "source": [
    "def print_model(file_path):\n",
    "    with open(file_path) as file:\n",
    "        print(file.read())\n",
    "\n",
    "pooled_data = np_data.flatten()\n",
    "pooled_data_model = dict(N=len(pooled_data), y=pooled_data)\n",
    "\n",
    "pooled_inv_g_data_model = dict(N=len(pooled_data), y=pooled_data)\n",
    "\n",
    "hierarchical_data_model = dict(N = np_data.shape[1], J= np_data.shape[0],y = np_data.T)\n",
    "# choosing alpha and beta?\n",
    "\n",
    "def compute_model(file_path, data):\n",
    "    # Compile model for both separated and pooled\n",
    "    model = stan_utility.compile_model(file_path) \n",
    "\n",
    "    # Fit model\n",
    "    fit = model.sampling(data=data, seed=194838)\n",
    "    #stan_utility.check_treedepth(fit)\n",
    "    #stan_utility.check_energy(fit)\n",
    "    #stan_utility.check_div(fit)\n",
    "\n",
    "    # get summary of the fit, use pandas data frame for layout\n",
    "    summary = pool_uni_fit.summary()\n",
    "    df = pd.DataFrame(summary['summary'], index=summary['summary_rownames'], columns=summary['summary_colnames'])\n",
    "    \n",
    "    return df, fit\n",
    "\n",
    "\n",
    "def compare_new_predictive_against_actual_distribution(new_preds, actual, new_pred_labels, actual_label):\n",
    "    fig, axes = plot_tools.hist_multi_sharex(\n",
    "        [new_preds[i] for i in range(len(new_preds))]+[actual],\n",
    "        rowlabels= [ new_pred_labels[i] for i in range(len(new_pred_labels))]+[actual_label],\n",
    "        n_bins=30,x_lines=np.mean(actual),figsize=(7, 10) )\n",
    "    plt.show()\n",
    "    \n",
    "\n",
    "def compare_psis_loo(log_liks):\n",
    "    ## compute psis_loo, p_eff\n",
    "    ## plot k-values\n",
    "    pass\n"
   ]
  },
  {
   "cell_type": "code",
   "execution_count": 6,
   "metadata": {
    "scrolled": false
   },
   "outputs": [
    {
     "name": "stderr",
     "output_type": "stream",
     "text": [
      "INFO:pystan:COMPILING THE C++ CODE FOR MODEL anon_model_9b8e95f23a292c6baefb5978c5223890 NOW.\n"
     ]
    },
    {
     "ename": "NameError",
     "evalue": "name 'pool_uni_fit' is not defined",
     "output_type": "error",
     "traceback": [
      "\u001b[1;31m---------------------------------------------------------------------------\u001b[0m",
      "\u001b[1;31mNameError\u001b[0m                                 Traceback (most recent call last)",
      "\u001b[1;32m<ipython-input-6-ba2bf5a389ee>\u001b[0m in \u001b[0;36m<module>\u001b[1;34m\u001b[0m\n\u001b[1;32m----> 1\u001b[1;33m \u001b[0mpool_uni_df\u001b[0m\u001b[1;33m,\u001b[0m \u001b[0mpool_uni_fit\u001b[0m \u001b[1;33m=\u001b[0m \u001b[0mcompute_model\u001b[0m\u001b[1;33m(\u001b[0m\u001b[1;34mr'stan_code/pool_uniform_prior.stan'\u001b[0m\u001b[1;33m,\u001b[0m \u001b[0mpooled_data_model\u001b[0m\u001b[1;33m)\u001b[0m\u001b[1;33m\u001b[0m\u001b[1;33m\u001b[0m\u001b[0m\n\u001b[0m",
      "\u001b[1;32m<ipython-input-5-2058d6715ada>\u001b[0m in \u001b[0;36mcompute_model\u001b[1;34m(file_path, data)\u001b[0m\n\u001b[0;32m     22\u001b[0m \u001b[1;33m\u001b[0m\u001b[0m\n\u001b[0;32m     23\u001b[0m     \u001b[1;31m# get summary of the fit, use pandas data frame for layout\u001b[0m\u001b[1;33m\u001b[0m\u001b[1;33m\u001b[0m\u001b[1;33m\u001b[0m\u001b[0m\n\u001b[1;32m---> 24\u001b[1;33m     \u001b[0msummary\u001b[0m \u001b[1;33m=\u001b[0m \u001b[0mpool_uni_fit\u001b[0m\u001b[1;33m.\u001b[0m\u001b[0msummary\u001b[0m\u001b[1;33m(\u001b[0m\u001b[1;33m)\u001b[0m\u001b[1;33m\u001b[0m\u001b[1;33m\u001b[0m\u001b[0m\n\u001b[0m\u001b[0;32m     25\u001b[0m     \u001b[0mdf\u001b[0m \u001b[1;33m=\u001b[0m \u001b[0mpd\u001b[0m\u001b[1;33m.\u001b[0m\u001b[0mDataFrame\u001b[0m\u001b[1;33m(\u001b[0m\u001b[0msummary\u001b[0m\u001b[1;33m[\u001b[0m\u001b[1;34m'summary'\u001b[0m\u001b[1;33m]\u001b[0m\u001b[1;33m,\u001b[0m \u001b[0mindex\u001b[0m\u001b[1;33m=\u001b[0m\u001b[0msummary\u001b[0m\u001b[1;33m[\u001b[0m\u001b[1;34m'summary_rownames'\u001b[0m\u001b[1;33m]\u001b[0m\u001b[1;33m,\u001b[0m \u001b[0mcolumns\u001b[0m\u001b[1;33m=\u001b[0m\u001b[0msummary\u001b[0m\u001b[1;33m[\u001b[0m\u001b[1;34m'summary_colnames'\u001b[0m\u001b[1;33m]\u001b[0m\u001b[1;33m)\u001b[0m\u001b[1;33m\u001b[0m\u001b[1;33m\u001b[0m\u001b[0m\n\u001b[0;32m     26\u001b[0m \u001b[1;33m\u001b[0m\u001b[0m\n",
      "\u001b[1;31mNameError\u001b[0m: name 'pool_uni_fit' is not defined"
     ]
    }
   ],
   "source": [
    "pool_uni_df, pool_uni_fit = compute_model(r'stan_code/pool_uniform_prior.stan', pooled_data_model)"
   ]
  },
  {
   "cell_type": "code",
   "execution_count": null,
   "metadata": {},
   "outputs": [],
   "source": [
    "pool_inv_df, pool_inv_fit = compute_model(r'stan_code/pool_inverse_gamma_prior.stan', pooled_data_model)"
   ]
  },
  {
   "cell_type": "code",
   "execution_count": null,
   "metadata": {},
   "outputs": [],
   "source": [
    "hier_uni_df, hier_uni_fit = compute_model(r'stan_code/hier_uniform_prior.stan', hierarchical_data_model)"
   ]
  },
  {
   "cell_type": "code",
   "execution_count": null,
   "metadata": {},
   "outputs": [],
   "source": [
    "hier_inv_df, hier_inv_fit = compute_model(r'stan_code/hier_inverse_gamma_prior.stan', hierarchical_data_model)"
   ]
  },
  {
   "cell_type": "code",
   "execution_count": 88,
   "metadata": {},
   "outputs": [],
   "source": [
    "#new_df = pool_uni_df.head(2)\n",
    "#new_df = new_df.append(pool_uni_df.tail(2))\n",
    "#new_df.head(3)\n"
   ]
  },
  {
   "cell_type": "markdown",
   "metadata": {},
   "source": [
    "### 6.2 Pooled model\n",
    "__TO DO!__ In the pooled model the mean ($theta$ in the Stan code) and the deviation ($sigma$ in the Stan code) is computed from the combined data of all machines. The combined data means that the data of the machines are common and no distinction between machines can be made. In this model, the same Stan code can be used (detailed description can be found from section 8.1).\n",
    "\n"
   ]
  },
  {
   "cell_type": "code",
   "execution_count": null,
   "metadata": {},
   "outputs": [],
   "source": []
  },
  {
   "cell_type": "markdown",
   "metadata": {},
   "source": [
    "### 6.3 Hierarchical model\n"
   ]
  },
  {
   "cell_type": "code",
   "execution_count": null,
   "metadata": {},
   "outputs": [],
   "source": []
  },
  {
   "cell_type": "markdown",
   "metadata": {},
   "source": [
    "## 7 Model comparision with PSIS-LOO and $P_{LOO-CV}$ \n",
    "\n",
    "\n",
    "* Model selection according to the hightest LOO-CV sum\n",
    "* Reliability based on the _k_values: <0.7 ok, <0.5 good\n",
    "\n",
    "\n",
    "\n",
    "__TO DO!__ The PSIS-LOO values of the models can be computed using provided _psisloo_ function. The function returns observation specific _k_-values and PSIS-LOO-CV values. In addition it return the sum of the PSIS-LOO-CV values, hence the sum of the LOO log desnities:\n",
    "\n",
    "\\begin{equation*}\n",
    "lppd_{loo-cv} = \\sum_{i=1}^{N} log \\left( \\frac{1}{S} \\sum_{s=1}^{S} p(y_i|\\theta^{is}) \\right)\n",
    "\\end{equation*}\n",
    "\n",
    "The estimated effective number of parameters ($P_{LOO-CV}$) in the model is computed as follows:\n",
    "\n",
    "\\begin{equation*}\n",
    "p_{loo-cv} = lppd-lppd_{loo-cv} \n",
    "\\end{equation*}\n",
    "\n",
    "where $lppd$ is the sum of the log densities of the posterior draws:\n",
    "\\begin{equation*}\n",
    "lppd = \\sum_{i=1}^{N} log \\left( \\frac{1}{S} \\sum_{s=1}^{S} p(y_i|\\theta^{s}) \\right)\n",
    "\\end{equation*}\n",
    "\n",
    "\n",
    "All the PSIS-LOO values, estimated effective number of parameters and plotted _k_-values are shown below.\n"
   ]
  },
  {
   "cell_type": "markdown",
   "metadata": {},
   "source": [
    "## 8 Posterior predictive checking \n",
    "* show predictive distributions: all tournaments and new tournament\n",
    "* how to check?? demo6_x\n",
    "\n",
    "Create 9 random replicate data sets from the posterior predictive density. Each set has same number of virtual observations as the original data set.\n",
    "\n",
    "\n",
    "__?? https://github.com/stan-dev/example-models/blob/master/education/tutorial_twopl/tutorial_twopl.Rmd__\n",
    "\n",
    "Implementation of PPMC is relatively simple because it can often be incorporated as part of the MCMC algorithm itself. We already have an MCMC-generated sample from the posterior distribution for the parameters in a model as a by-product of MCMC simulations. To simulate posterior predictive replications, the following steps need to be repeated a sufficient number of times:\n",
    "- **Step 1**. Generate a draw of item parameters $\\alpha_{i}$ and $\\beta_{i}$ from the posterior distribution $p(\\alpha_i, \\beta_i|y)$, and draw a new ability parameter vector $\\theta_{j}^{rep}$ from its prior $p(\\theta_j)$. \n",
    "- **Step 2**. Combine $\\theta_{j}^{rep}$ with $\\alpha_{i}$ and $\\beta_{i}$ to generate the predicted probability of a correct response for replicate observations. \n",
    "- **Step 3**. Randomly assign responses to correct or incorrect according to the predicted probabilities, resulting in a new vector of replicated responses $y_{ij}^{rep}$. \n",
    "Note that new values $\\theta_{j}^{rep}$ are drawn from their prior rather than using the existing posterior draws $\\theta_{j}$. Therefore, this process may more accurately be labeled as a _mixed_ PPMC. Drawing $\\theta_j$ from the posterior would make double use of the data which may yield a conservative test (that often fails detect model misfit) since the observed data can have strong influence on the replicated data [@marshall2003approximate; @Vehtari2015efficient]. A _mixed_ PPMC can considerably reduce such conservatism. \n",
    "**Stan** provides an efficient way to generate replicated datasets. We can implement from **Step 1** to **Step 3** by simply adding a `generated quantities` program block at the end of the [2PL Stan program](#twoplstancode) from the previous section. The **R** code below shows how the `generated quantities` block is defined. \n",
    "\n",
    "```\n",
    "# Define generated_quantities program block  \n",
    "generated_quantities <- \"\n",
    "generated quantities {\n",
    "    real theta_rep[J];\n",
    "    int y_rep[N];\n",
    "    for(j in 1:J)\n",
    "      theta_rep[j] <- normal_rng(0, 1);\n",
    "    for (n in 1:N) \n",
    "      y_rep[n] <- bernoulli_rng(inv_logit(alpha[ii[n]] * (theta_rep[jj[n]] - beta[ii[n]])));\n",
    "}```\n"
   ]
  },
  {
   "cell_type": "code",
   "execution_count": 139,
   "metadata": {
    "scrolled": false
   },
   "outputs": [
    {
     "name": "stdout",
     "output_type": "stream",
     "text": [
      "The predictive distributions of the models and the actual distribution\n"
     ]
    },
    {
     "data": {
      "image/png": "[encoded data removed]",
      "text/plain": [
       "<Figure size 504x720 with 5 Axes>"
      ]
     },
     "metadata": {
      "needs_background": "light"
     },
     "output_type": "display_data"
    },
    {
     "name": "stdout",
     "output_type": "stream",
     "text": [
      "Replicates for pooled uniform\n"
     ]
    },
    {
     "data": {
      "image/png": "[encoded data removed]",
      "text/plain": [
       "<Figure size 504x720 with 10 Axes>"
      ]
     },
     "metadata": {
      "needs_background": "light"
     },
     "output_type": "display_data"
    }
   ],
   "source": [
    "#Note that for hierarchical models, the new predictive tournament is computed from common hyperparatemers\n",
    "ypreds = [\n",
    "    pool_uni_fit.extract(permuted=True)['ypred'],     #Pooled unifrom new predictive tournament\n",
    "    pool_inv_fit.extract(permuted=True)['ypred'],     #Pooled inverse gamma new predictive tournament\n",
    "    hier_uni_fit.extract(permuted=True)['ypred_new'], #Hierarchical unifrom new predictive tournament \n",
    "    hier_inv_fit.extract(permuted=True)['ypred_new']  #Hierarchical inverse gamma new predictive tournament\n",
    "]\n",
    "ypreds_labels = ['Pooled uniform', 'Pooled inverse gamma', \"Hierarchical uniform\", \"Hierarchical inverse gamma\"]\n",
    "\n",
    "print(\"The predictive distributions of the models and the actual distribution\")\n",
    "compare_new_predictive_against_actual_distribution(ypreds,pooled_data,ypreds_labels,'Original data set')\n",
    "\n",
    "#Replicates: NOTE! NOT CORRECT! \n",
    "print(\"Replicates for pooled uniform\")\n",
    "test = pool_uni_fit.extract(permuted=True)['yrep']\n",
    "compare_new_predictive_against_actual_distribution(\n",
    "    [test[:,i] for i in range(test.shape[1])],pooled_data,\n",
    "    [i+1  for i in range(0,9)],'Original data set')\n"
   ]
  },
  {
   "cell_type": "code",
   "execution_count": null,
   "metadata": {},
   "outputs": [],
   "source": [
    "#Show predictive distributions for all the machines and for new machine\n",
    "def show_predictive_distributions(samples):\n",
    "    m = 0;\n",
    "   \n",
    "    #First row of plots: machines from 1 to 4\n",
    "    fig, axes = plt.subplots(1, 4, sharey=True,figsize=(16,4), subplot_kw=dict(aspect='auto'))\n",
    "    fig.suptitle('Predictive distributions of the machines')\n",
    "    for i in range(0,4):\n",
    "        axes[i].set_title('Machine '+str(m+1))\n",
    "        mu = np.mean(samples[\"ypred\"][:,m])\n",
    "        if mu<85:\n",
    "            axes[i].hist(samples[\"ypred\"][:,m],50, density=True, alpha=0.3, color='R')\n",
    "        else:\n",
    "            axes[i].hist(samples[\"ypred\"][:,m],50, density=True, alpha=0.7)\n",
    "        axes[i].plot([85,85],[0.027, 0],'-',color='K',linewidth=1.5, label=r'$\\theta=85$')\n",
    "        axes[i].plot([mu,mu],[0.027, 0],'--',color='K', linewidth=1.5, label=r'$\\theta$ mean')\n",
    "        m+=1\n",
    "        axes[i].legend()\n",
    "    plt.show()   \n",
    "    \n",
    "    #Second row of plots: machines from 5 to 6 and new machine (7th)\n",
    "    fig, axes = plt.subplots(1, 3, sharey=True,figsize=(12,4), subplot_kw=dict(aspect='auto'))\n",
    "    for i in range(0,2):\n",
    "        axes[i].set_title('Machine '+str(m+1))\n",
    "        mu = np.mean(samples[\"ypred\"][:,m])\n",
    "        if mu<85:\n",
    "            axes[i].hist(samples[\"ypred\"][:,m],50, density=True, alpha=0.3, color='R')\n",
    "        else:\n",
    "            axes[i].hist(samples[\"ypred\"][:,m],50, density=True, alpha=0.7)\n",
    "        axes[i].plot([85,85],[0.027, 0],'-',color='K',linewidth=1.5, label=r'$\\theta=85$')\n",
    "        axes[i].plot([mu,mu],[0.027, 0],'--',color='K', linewidth=1.5, label=r'$\\theta$ mean')\n",
    "        m+=1\n",
    "        axes[i].legend()\n",
    "\n",
    "    i=2\n",
    "    axes[i].set_title('Machine '+str(m+1))\n",
    "    mu = np.mean(samples[\"ypred7\"])\n",
    "    if mu<85:\n",
    "        axes[i].hist(samples[\"ypred7\"],50, density=True, alpha=0.3, color='R')\n",
    "    else:\n",
    "        axes[i].hist(samples[\"ypred7\"],50, density=True, alpha=0.7)\n",
    "    axes[i].plot([85,85],[0.027, 0],'-',color='K',linewidth=1.5, label=r'$\\theta=85$')\n",
    "    axes[i].plot([mu,mu],[0.027, 0],'--',color='K', linewidth=1.5, label=r'$\\theta$ mean')\n",
    "    axes[i].legend()\n",
    "    plt.show()   "
   ]
  },
  {
   "cell_type": "markdown",
   "metadata": {},
   "source": [
    "\n",
    "## 9 Sensitivity analysis (?)\n",
    "* on the priors \n",
    "* and the model (ask ta)\n"
   ]
  },
  {
   "cell_type": "markdown",
   "metadata": {},
   "source": [
    "## 10 Conclusion\n",
    "* problems: \n",
    " - data model is not 100& justifiable \n",
    "* potential improvements\n",
    " - data model can be modified so that multinomial can be used for likelihood\n",
    " - extensive experiment with binomial model\n",
    "* discussion\n",
    " - it's accurate\n",
    "* conclusion of the data analysis\n",
    "* Is there a discussion of problems and potential improvements ?"
   ]
  },
  {
   "cell_type": "markdown",
   "metadata": {},
   "source": [
    "___\n",
    "\n",
    "# Source code"
   ]
  },
  {
   "cell_type": "code",
   "execution_count": null,
   "metadata": {},
   "outputs": [],
   "source": [
    "# Import libraries\n",
    "import numpy as np\n",
    "import pandas as pd\n",
    "import matplotlib as mpl\n",
    "import matplotlib.pyplot as plt\n",
    "import os\n",
    "\n",
    "import pystan\n",
    "import stan_utility\n",
    "import psis\n",
    "import plot_tools\n",
    "\n",
    "# For hiding warnings that do not effect the functionality of the code\n",
    "import warnings\n",
    "warnings.filterwarnings('ignore')"
   ]
  },
  {
   "cell_type": "code",
   "execution_count": 2,
   "metadata": {},
   "outputs": [],
   "source": [
    "# Data is provided as files, 1 file contains all matches result of a tournament\n",
    "# We will use data from all tournaments to fit model\n",
    "# Except for the last one which will be used to evaluate prediction accuracy\n",
    "data = []\n",
    "filenames = os.listdir(r'./data/')\n",
    "for idx, filename in enumerate(filenames):\n",
    "    col = np.loadtxt(f'data//{filename}').tolist()[0:67]\n",
    "    if (idx == (len(filenames) - 1)):\n",
    "        last = col[0:67]\n",
    "    else:\n",
    "        data.append(col)\n",
    "\n",
    "np_data = np.array(data)\n",
    "\n",
    "def show_first_rows_of_data():\n",
    "    df = pd.DataFrame(np_data.T)\n",
    "    df.columns=['Tournament '+str(i+1) for i in range(np_data.shape[0])]\n",
    "    df = df.rename({i: 'Match '+str(i+1) for i in range(np_data.shape[1])}, axis='index')\n",
    "    return df.head()\n",
    "\n",
    "def show_summary_of_data():\n",
    "    df = pd.DataFrame(np_data.T)\n",
    "    df.columns=['Tournament '+str(i+1) for i in range(np_data.shape[0])]\n",
    "    return df.describe()\n",
    "\n",
    "# print number of observations (matches) and number of predictors (tournaments)"
   ]
  },
  {
   "cell_type": "code",
   "execution_count": null,
   "metadata": {},
   "outputs": [],
   "source": [
    "raw_data = np.loadtxt('data.txt')\n",
    "\n",
    "# Aggregate raw result\n",
    "aggregated_result = {}\n",
    "for i in range(-11,12):\n",
    "    aggregated_result[str(i)] = []\n",
    "\n",
    "for (spread, result) in raw_data:\n",
    "    key = str(int(spread))\n",
    "    aggregated_result[key].append(result)\n",
    "        \n",
    "# Turn to 23 x 3 matrix, where columns are win, lose, number of games, and rows are the possible spread\n",
    "data_matrix = []\n",
    "for key, value in aggregated_result.items():\n",
    "    total = len(value)\n",
    "    win = len([i for i in value if i > 0])\n",
    "    data_matrix.append([win, total - win, total])\n",
    "\n",
    "print(data_matrix)\n",
    "print(len(data_matrix))\n",
    "print(aggregated_result)"
   ]
  },
  {
   "cell_type": "code",
   "execution_count": null,
   "metadata": {},
   "outputs": [],
   "source": []
  },
  {
   "cell_type": "code",
   "execution_count": null,
   "metadata": {
    "scrolled": false
   },
   "outputs": [],
   "source": [
    "# Read data and convert it to matrix with dimensions [6x23]\n",
    "raw_data = pd.read_csv('data.txt', sep=\" \", header=None)\n",
    "raw_data.columns = ['spread','win']\n",
    "raw_data = raw_data.groupby(['spread', 'win']).size().reset_index(name='counts')\n",
    "\n",
    "\n",
    "data_json = {i: [0 for j in range(-11,12)] for i in range(1,7)}\n",
    "for index, row in raw_data.iterrows():\n",
    "    data_json[row['win']][11+row['spread']] = row['counts']\n",
    "\n",
    "data = pd.DataFrame(data=data_json)\n",
    "def getRowText():\n",
    "    j=-11\n",
    "    c = {}\n",
    "    for i in range(0,23):\n",
    "        c[i] = j\n",
    "        j += 1\n",
    "    return c\n",
    "\n",
    "data.rename(index=getRowText(), inplace=True)\n",
    "data = data.T\n",
    "print(data)"
   ]
  },
  {
   "cell_type": "code",
   "execution_count": null,
   "metadata": {},
   "outputs": [],
   "source": [
    "def convertData(dataset):\n",
    "    win = dataset[0:3].sum(axis=0).values \n",
    "    lose = dataset[3:7].sum(axis=0).values \n",
    "    return np.array([win,lose])\n",
    "\n",
    "tt = convertData(data)\n"
   ]
  },
  {
   "cell_type": "code",
   "execution_count": null,
   "metadata": {},
   "outputs": [],
   "source": [
    "# Data #######\n",
    "raw_data = pd.read_csv('kristel.txt', sep=\" \", header=None)\n",
    "print(raw_data)\n",
    "\n",
    "\n",
    "highest_frequency = max([8,8,7,7,6,6,5,5,4,3,2])+2\n",
    "#data = dict(N=11, n=[highest_frequency for i in range(0,11)], \n",
    "#            y=np.array(list(reversed([8,8,7,7,6,6,5,5,4,3,2]))), x=[1,2,3,4,5,6,7,8,9,10,11])\n",
    "data = dict(r=23, c=3, y=data_matrix)\n",
    "\n",
    "def fit_model(model_code='stan_code\\\\binom-logistic-regression.stan'):\n",
    "    model = stan_utility.compile_model(model_code)\n",
    "    fit = model.sampling(data=data, seed=194838, chains=4, iter=4000)\n",
    "    samples = fit.extract(permuted=True)\n",
    "    print(fit)\n",
    "    stan_utility.check_treedepth(fit)\n",
    "    stan_utility.check_energy(fit)\n",
    "    stan_utility.check_div(fit)\n",
    "    return samples"
   ]
  },
  {
   "cell_type": "code",
   "execution_count": null,
   "metadata": {},
   "outputs": [],
   "source": [
    "# Models\n",
    "with open('stan_code\\\\binom-logistic-regression.stan') as file:\n",
    "    print(file.read())"
   ]
  },
  {
   "cell_type": "code",
   "execution_count": null,
   "metadata": {
    "scrolled": false
   },
   "outputs": [],
   "source": [
    "# logistic_samples = fit_model('stan_code\\\\binom-logistic-regression.stan')"
   ]
  },
  {
   "cell_type": "code",
   "execution_count": null,
   "metadata": {},
   "outputs": [],
   "source": [
    "logistic_samples = fit_model('stan_code\\\\multinomial.stan')"
   ]
  },
  {
   "cell_type": "code",
   "execution_count": null,
   "metadata": {},
   "outputs": [],
   "source": []
  },
  {
   "cell_type": "code",
   "execution_count": null,
   "metadata": {},
   "outputs": [],
   "source": [
    "####### Multinomial #######\n",
    "\n",
    "\n",
    "\n",
    "\n"
   ]
  },
  {
   "cell_type": "code",
   "execution_count": null,
   "metadata": {},
   "outputs": [],
   "source": []
  },
  {
   "cell_type": "code",
   "execution_count": null,
   "metadata": {},
   "outputs": [],
   "source": [
    "def show_model_fit(x, y, mu):    \n",
    "    figsize = plt.rcParams['figure.figsize'].copy()\n",
    "    figsize[0] *= 2  # width\n",
    "    fig, ax = plt.subplots(1, 1, figsize=figsize)\n",
    "\n",
    "    # scatterplot and lines\n",
    "    color_scatter = 'C0'  # 'C0' for default color #0\n",
    "    color_line = 'C1'     # 'C1' for default color #1\n",
    "    # lighten color_line\n",
    "    color_shade = (1 - 0.1*(1 - np.array(mpl.colors.to_rgb(color_line))))\n",
    "    # plot\n",
    "    ax.fill_between(\n",
    "        x,\n",
    "        np.percentile(mu, 5, axis=0),\n",
    "        np.percentile(mu, 95, axis=0),\n",
    "        color=color_shade\n",
    "    )\n",
    "    ax.plot(\n",
    "        x,\n",
    "        np.percentile(mu, 50, axis=0),\n",
    "        color=color_line,\n",
    "        linewidth=1\n",
    "    )\n",
    "    ax.scatter(x, y, 5, color=color_scatter)\n",
    "    ax.set_xlabel('Spread')\n",
    "    ax.set_ylabel('Normalized frequency')\n",
    "    ax.set_title('Wins per spread')\n",
    "    plt.show()\n",
    "    \n",
    "show_model_fit(data[\"x\"],data[\"y\"]/np.array([highest_frequency]), logistic_samples['p'])"
   ]
  },
  {
   "cell_type": "code",
   "execution_count": null,
   "metadata": {},
   "outputs": [],
   "source": []
  },
  {
   "cell_type": "code",
   "execution_count": null,
   "metadata": {},
   "outputs": [],
   "source": []
  },
  {
   "cell_type": "code",
   "execution_count": null,
   "metadata": {
    "scrolled": false
   },
   "outputs": [],
   "source": [
    "\"\"\"from scipy import stats\n",
    "for i in range(0,11):\n",
    "    mu = np.mean(logistic_samples['y_rep'][:,i])\n",
    "    std = np.std(logistic_samples['y_rep'][:,i])\n",
    "    x = np.linspace(0,11,100)\n",
    "    plt.plot(x, stats.norm(mu,std).pdf(x))\n",
    "    #plt.hist(logistic_samples['y_rep'][:,i], alpha=0.2, density=True)\n",
    "plt.show()\n",
    "\"\"\"\n",
    "\n",
    "\n",
    "plt.scatter(logistic_samples[\"alpha\"],logistic_samples[\"beta\"])\n",
    "plt.show();\n",
    "plt.hist(logistic_samples[\"alpha\"], bins=50)\n",
    "plt.hist(logistic_samples[\"beta\"], bins=50)\n",
    "plt.show();\n",
    "\n",
    "\"\"\"plt.scatter(data[\"x\"],data[\"y\"]/np.array([highest_frequency]))\n",
    "def calc(a,b,xp):\n",
    "    return np.exp(a + b*xp)/(1 + np.exp(a + b*xp))\"\"\""
   ]
  },
  {
   "cell_type": "markdown",
   "metadata": {},
   "source": [
    "FOR PSISLOO IF NEEDED"
   ]
  },
  {
   "cell_type": "code",
   "execution_count": null,
   "metadata": {},
   "outputs": [],
   "source": [
    "# LPPD: Posterior predictive distribution summarized by the simulation draws of theta^s\n",
    "def compute_LPPD(samples):\n",
    "    lppd_all = 0\n",
    "    samples = np.array(samples)\n",
    "    N = samples.shape[1]\n",
    "    S = samples.shape[0]\n",
    "    for i in range(0,N):\n",
    "        lppd_all += np.log(np.sum(np.exp(samples[:,i]))/S)\n",
    "    return lppd_all\n",
    "\n",
    "# LPPD LOO-CV: Bayesian loo-cv (leave-one-out cross-validation) estimate of out-of-sample predictive fit\n",
    "def compute_PSIS_LOO_values_and_plot_k(samples, model_text='Separate model'):\n",
    "    # Compute bayesian loo-cv using psisloo function\n",
    "    lppd_loo_cv, lppd_loos_cv, lppd_loo_k = psis.psisloo(samples)\n",
    "\n",
    "    #Estimate of the effective number of parameters\n",
    "    p_loo_cv = compute_LPPD(samples) - lppd_loo_cv\n",
    "    \n",
    "    # Plot k-values\n",
    "    plt.scatter(range(0,samples.shape[1]),lppd_loo_k,label=model_text, alpha=0.7)\n",
    "    \n",
    "    return {'loo_cv':lppd_loo_cv, 'loos_cv':lppd_loos_cv, 'loo_k':lppd_loo_k, 'p_loo_cv': p_loo_cv}\n",
    "\n",
    "#Reshape matrix of [SxNxJ] to [Sx(N*J)]\n",
    "def reshape_array(samples):\n",
    "    samples_all = np.array(samples)\n",
    "    S = samples_all.shape[0]\n",
    "    N = samples_all.shape[1]\n",
    "    J = samples_all.shape[2]\n",
    "    samples_reshaped = []\n",
    "    for s in range(0,S):\n",
    "        temp = []\n",
    "        for n in range(0,N):\n",
    "            for j in range(0,J):\n",
    "                temp.append(samples_all[s,n,j])\n",
    "        samples_reshaped.append(temp)\n",
    "    return np.array(samples_reshaped)\n",
    "\n",
    "\n",
    "#samples = sfit.extract(permuted=True)\n",
    "#compute_PSIS_LOO_values_and_plot_k(reshape_array(samples[\"log_lik\"]))\n",
    "\n",
    "# check the number of large (> 0.5) Pareto k estimates\n",
    "#np.sum(ks1 > 0.5)"
   ]
  }
 ],
 "metadata": {
  "kernelspec": {
   "display_name": "Python 3",
   "language": "python",
   "name": "python3"
  },
  "language_info": {
   "codemirror_mode": {
    "name": "ipython",
    "version": 3
   },
   "file_extension": ".py",
   "mimetype": "text/x-python",
   "name": "python",
   "nbconvert_exporter": "python",
   "pygments_lexer": "ipython3",
   "version": "3.7.1"
  }
 },
 "nbformat": 4,
 "nbformat_minor": 2
}
