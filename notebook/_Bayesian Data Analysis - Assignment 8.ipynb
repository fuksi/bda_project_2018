{
 "cells": [
  {
   "cell_type": "markdown",
   "metadata": {},
   "source": [
    "# Model assessment: LOO-CV for factory data with Stan\n"
   ]
  },
  {
   "cell_type": "markdown",
   "metadata": {},
   "source": [
    "If this is to be executed, please execute the source code at the end of the report first. The report addresses the first two points of the assignment for each model, then give conlusion on the differences between models."
   ]
  },
  {
   "cell_type": "markdown",
   "metadata": {},
   "source": [
    "## SEPARATE MODEL\n"
   ]
  },
  {
   "cell_type": "markdown",
   "metadata": {},
   "source": [
    "**psis-loo, p_eff, k-values**"
   ]
  },
  {
   "cell_type": "code",
   "execution_count": 5,
   "metadata": {},
   "outputs": [
    {
     "name": "stdout",
     "output_type": "stream",
     "text": [
      "PSIS-LOO value is -131.99480704408487\n",
      "p_eff value is 9.448912107852621\n",
      "Histogram of k-values:\n",
      "[0.3038364  0.23812124 0.5374844  0.23812041 0.20129228 0.56844808\n",
      " 0.29584671 0.21251372 0.56875015 0.28014507 0.16548769 0.23660643\n",
      " 0.29584671 0.16288348 0.56427522 0.2231835  0.50419384 0.25184175\n",
      " 0.74372511 0.18239086 0.56194547 0.48764583 0.20129228 0.20851127\n",
      " 0.31580757 0.82513724 0.68571975 0.2231835  0.14346505 0.26028729]\n"
     ]
    },
    {
     "data": {
      "image/png": "[encoded data removed]",
      "text/plain": [
       "<Figure size 432x288 with 1 Axes>"
      ]
     },
     "metadata": {
      "needs_background": "light"
     },
     "output_type": "display_data"
    }
   ],
   "source": [
    "get_separate_result()"
   ]
  },
  {
   "cell_type": "markdown",
   "metadata": {},
   "source": [
    "**Assement based on k-values**\n",
    "\n",
    "As can be seen from the histogram, there are **several k-values** > 0.7 , which is still very small w.r.t the number of samples. Then PSIS-LOO is considered **reliable** in this case\n",
    "\n"
   ]
  },
  {
   "cell_type": "markdown",
   "metadata": {},
   "source": [
    "## POOL MODEL\n"
   ]
  },
  {
   "cell_type": "markdown",
   "metadata": {},
   "source": [
    "**psis-loo, p_eff, k-values**"
   ]
  },
  {
   "cell_type": "code",
   "execution_count": 6,
   "metadata": {},
   "outputs": [
    {
     "name": "stdout",
     "output_type": "stream",
     "text": [
      "PSIS-LOO value is -130.870493652447\n",
      "p_eff value is 1.9393666740129447\n",
      "Histogram of k-values:\n",
      "[-0.00709425  0.09247539 -0.05578389 -0.0408335  -0.00298315  0.17840998\n",
      "  0.01186253  0.01519206 -0.01127108  0.10715439 -0.03972638  0.01186253\n",
      "  0.01186253  0.07776282  0.01186253  0.0725519  -0.05927501 -0.0605868\n",
      "  0.38399115 -0.0605868  -0.00274862 -0.06706608 -0.00298315 -0.01307678\n",
      "  0.01828661 -0.00653085  0.01828661  0.0725519   0.01186253 -0.04578775]\n"
     ]
    },
    {
     "data": {
      "image/png": "[encoded data removed]",
      "text/plain": [
       "<Figure size 432x288 with 1 Axes>"
      ]
     },
     "metadata": {
      "needs_background": "light"
     },
     "output_type": "display_data"
    }
   ],
   "source": [
    "get_pool_result()"
   ]
  },
  {
   "cell_type": "markdown",
   "metadata": {},
   "source": [
    "**Assement based on k-values**\n",
    "\n",
    "As can be seen from the histogram, **all k-values < 0.7** (in fact all k-values are less than ~ 0.5). Then PSIS-LOO is considered **very reliable** in this case\n",
    "\n"
   ]
  },
  {
   "cell_type": "markdown",
   "metadata": {},
   "source": [
    "## HIERARCHICAL MODEL"
   ]
  },
  {
   "cell_type": "markdown",
   "metadata": {},
   "source": [
    "**psis-loo, p_eff, k-values**"
   ]
  },
  {
   "cell_type": "code",
   "execution_count": 7,
   "metadata": {},
   "outputs": [
    {
     "name": "stdout",
     "output_type": "stream",
     "text": [
      "PSIS-LOO value is -126.82855592407277\n",
      "p_eff value is 5.718071974593229\n",
      "Histogram of k-values:\n",
      "[0.21865567 0.18714982 0.2515771  0.22397118 0.31322165 0.56056021\n",
      " 0.32520664 0.14011357 0.17734538 0.15096168 0.28810053 0.22996009\n",
      " 0.32520664 0.1628182  0.11675038 0.11680415 0.35011573 0.33354877\n",
      " 0.57583521 0.06257218 0.11600024 0.29372378 0.31322165 0.20355533\n",
      " 0.14294187 0.32822864 0.39697264 0.11680415 0.17163832 0.25442584]\n"
     ]
    },
    {
     "data": {
      "image/png": "[encoded data removed]",
      "text/plain": [
       "<Figure size 432x288 with 1 Axes>"
      ]
     },
     "metadata": {
      "needs_background": "light"
     },
     "output_type": "display_data"
    }
   ],
   "source": [
    "get_hierarchical_result()"
   ]
  },
  {
   "cell_type": "markdown",
   "metadata": {},
   "source": [
    "**Assement based on k-values**\n",
    "\n",
    "From the histogram, **all k-values < 0.7**. Then PSIS-LOO is considered **reliable** in this case\n",
    "\n"
   ]
  },
  {
   "cell_type": "markdown",
   "metadata": {},
   "source": [
    "-------------------------------\n",
    "\n",
    "##  CONCLUSION ON DIFFERENCE BETWEEN MODELS\n",
    "\n",
    "All models are reliable even with different distribution of k-values. If we consider towards model with best predictive accuracy, then **HIERARCHICAL MODEL** should be selected, because its PSIS-LOO value is the highest (or the sum of log predictive density is the highest)"
   ]
  },
  {
   "cell_type": "markdown",
   "metadata": {},
   "source": [
    " \n",
    "-------------------------------\n",
    "\n",
    "**SOURCE CODE**  "
   ]
  },
  {
   "cell_type": "markdown",
   "metadata": {},
   "source": [
    "Some bootstraping code and common function"
   ]
  },
  {
   "cell_type": "code",
   "execution_count": 4,
   "metadata": {},
   "outputs": [],
   "source": [
    "import pystan\n",
    "import numpy as np\n",
    "import pickle\n",
    "import matplotlib.pyplot as plt\n",
    "from psis import psisloo\n",
    "\n",
    "np.random.seed(seed=123)\n",
    "raw_data = np.loadtxt('factory.txt')\n",
    "data = dict(N=5, K=6, y=raw_data)\n",
    "\n",
    "def get_p_eff(log_lik, lppd_loocv):    \n",
    "    likelihoods = np.asarray([np.exp(log_likelihood.flatten()) for log_likelihood in log_lik])\n",
    "    num_sim, num_obs = likelihoods.shape\n",
    "    lppd = 0\n",
    "    for obs in range(num_obs):\n",
    "        lppd += np.log(np.sum(likelihoods[:, obs]) / num_sim)\n",
    "    \n",
    "    p_eff = lppd - lppd_loocv\n",
    "    return p_eff\n",
    "    \n",
    "def extract_result_from_fit(samples, plot_title=''):\n",
    "    log_lik_matrix = np.asarray([single_sample.flatten() for single_sample in samples['log_lik']])\n",
    "    loo, loos, ks = psisloo(log_lik_matrix)\n",
    "\n",
    "    # Calculate p_eff\n",
    "    p_eff = get_p_eff(log_lik_matrix, loo)\n",
    "\n",
    "    print(f'PSIS-LOO value is {loo}')\n",
    "    print(f'p_eff value is {p_eff}')\n",
    "    print('Histogram of k-values:')\n",
    "    print(ks)\n",
    "    plt.hist(ks, 30)\n",
    "    plt.title(plot_title)\n",
    "    plt.show()\n",
    "    \n",
    "    "
   ]
  },
  {
   "cell_type": "markdown",
   "metadata": {},
   "source": [
    "Model codes. From top to bottom: separate, pool, hierarchical"
   ]
  },
  {
   "cell_type": "code",
   "execution_count": 3,
   "metadata": {},
   "outputs": [
    {
     "name": "stderr",
     "output_type": "stream",
     "text": [
      "INFO:pystan:COMPILING THE C++ CODE FOR MODEL anon_model_e9247cbd108702a6c1e62d7d5ffdd0aa NOW.\n",
      "INFO:pystan:COMPILING THE C++ CODE FOR MODEL anon_model_b3b1d4093fb7ad91b3fc12139a8e74a9 NOW.\n",
      "INFO:pystan:COMPILING THE C++ CODE FOR MODEL anon_model_431a2067d773445b37801edf625af93b NOW.\n",
      "WARNING:pystan:7 of 4000 iterations ended with a divergence (0.175%).\n",
      "WARNING:pystan:Try running with adapt_delta larger than 0.8 to remove the divergences.\n"
     ]
    }
   ],
   "source": [
    "%%capture\n",
    "separate_model = \"\"\"\n",
    "data {\n",
    "  int<lower=0> N; // number of observations per machine\n",
    "  int<lower=0> K; // number of machines\n",
    "  matrix[N,K] y; // N * K matrix of observation\n",
    "}\n",
    "parameters {\n",
    "  real theta[K]; // group means\n",
    "  real<lower=0> sigma[K]; // group std\n",
    "}\n",
    "model {\n",
    "  for (k in 1:K)\n",
    "    y[:,k] ~ normal(theta[k], sigma[k]);\n",
    "}\n",
    "generated quantities {\n",
    "    matrix[N,K] log_lik;\n",
    "    for (k in 1:K)\n",
    "      for (i in 1:N)\n",
    "        log_lik[i,k] = normal_lpdf(y[i,k] | theta[k], sigma[k]);\n",
    "}\n",
    "\"\"\"\n",
    "\n",
    "separate_sm = pystan.StanModel(model_code=separate_model)\n",
    "separate_fit = separate_sm.sampling(data=data, iter=2000, chains=4)\n",
    "\n",
    "pool_model = \"\"\"\n",
    "data {\n",
    "  int<lower=0> N;\n",
    "  int<lower=0> K;\n",
    "  matrix[N,K] y;\n",
    "}\n",
    "parameters {\n",
    "  real theta; // common mean\n",
    "  real sigma; // common std\n",
    "}\n",
    "model {\n",
    "  for (k in 1:K)\n",
    "    y[:,k] ~ normal(theta, sigma);\n",
    "}\n",
    "generated quantities {\n",
    "    matrix[N,K] log_lik;\n",
    "    for (k in 1:K)\n",
    "      for (i in 1:N)\n",
    "        log_lik[i,k] = normal_lpdf(y[i,k] | theta, sigma);\n",
    "}\n",
    "\"\"\"\n",
    "\n",
    "pool_sm = pystan.StanModel(model_code=pool_model)\n",
    "pool_fit = pool_sm.sampling(data=data, iter=2000, chains=4)\n",
    "\n",
    "hierarchical_model = \"\"\"\n",
    "data {\n",
    "  int<lower=0> N;\n",
    "  int<lower=0> K;\n",
    "  matrix[N,K] y;\n",
    "}\n",
    "parameters {\n",
    "  real theta0; // common theta for each K machine theta\n",
    "  real<lower=0> sigma0; // machine specific sigma\n",
    "  real theta[K]; // machine specific theta\n",
    "  real<lower=0> sigma; // common std\n",
    "}\n",
    "model {\n",
    "  for (k in 1:K)\n",
    "    theta[k] ~ normal(theta0, sigma0);\n",
    "  for (k in 1:K)\n",
    "    y[:,k] ~ normal(theta[k], sigma);\n",
    "}\n",
    "generated quantities {\n",
    "    matrix[N,K] log_lik;\n",
    "    for (k in 1:K)\n",
    "      for (i in 1:N)\n",
    "        log_lik[i,k] = normal_lpdf(y[i,k] | theta[k], sigma);\n",
    "}\n",
    "\"\"\"\n",
    "\n",
    "hierarchical_sm = pystan.StanModel(model_code=hierarchical_model)\n",
    "hierarchical_fit = hierarchical_sm.sampling(data=data, iter=2000, chains=4)\n",
    "\n",
    "\n",
    "def get_separate_result():\n",
    "    extract_result_from_fit(separate_fit, 'Separate model')    \n",
    "    \n",
    "def get_pool_result():\n",
    "    extract_result_from_fit(pool_fit, 'Pool model')    \n",
    "    \n",
    "def get_hierarchical_result():\n",
    "    extract_result_from_fit(hierarchical_fit, 'Hierarchical model')"
   ]
  },
  {
   "cell_type": "code",
   "execution_count": null,
   "metadata": {},
   "outputs": [],
   "source": []
  }
 ],
 "metadata": {
  "kernelspec": {
   "display_name": "Python 3",
   "language": "python",
   "name": "python3"
  },
  "language_info": {
   "codemirror_mode": {
    "name": "ipython",
    "version": 3
   },
   "file_extension": ".py",
   "mimetype": "text/x-python",
   "name": "python",
   "nbconvert_exporter": "python",
   "pygments_lexer": "ipython3",
   "version": "3.7.1"
  },
  "varInspector": {
   "cols": {
    "lenName": 16,
    "lenType": 16,
    "lenVar": 40
   },
   "kernels_config": {
    "python": {
     "delete_cmd_postfix": "",
     "delete_cmd_prefix": "del ",
     "library": "var_list.py",
     "varRefreshCmd": "print(var_dic_list())"
    },
    "r": {
     "delete_cmd_postfix": ") ",
     "delete_cmd_prefix": "rm(",
     "library": "var_list.r",
     "varRefreshCmd": "cat(var_dic_list()) "
    }
   },
   "types_to_exclude": [
    "module",
    "function",
    "builtin_function_or_method",
    "instance",
    "_Feature"
   ],
   "window_display": false
  }
 },
 "nbformat": 4,
 "nbformat_minor": 2
}
