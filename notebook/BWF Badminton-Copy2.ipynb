{
 "cells": [
  {
   "cell_type": "markdown",
   "metadata": {},
   "source": [
    "1. "
   ]
  },
  {
   "cell_type": "code",
   "execution_count": 6,
   "metadata": {},
   "outputs": [],
   "source": [
    "import numpy as np\n",
    "import pandas as pd\n",
    "import matplotlib as mpl\n",
    "import matplotlib.pyplot as plt\n",
    "\n",
    "import pystan\n",
    "import stan_utility\n",
    "import psis"
   ]
  },
  {
   "cell_type": "markdown",
   "metadata": {},
   "source": [
    "## Dataset"
   ]
  },
  {
   "cell_type": "code",
   "execution_count": 27,
   "metadata": {},
   "outputs": [
    {
     "name": "stdout",
     "output_type": "stream",
     "text": [
      "[22.0, 31.0, 31.0, 25.0, 38.0, 42.0, 22.0, 24.0, 33.0, 26.0, 40.0, 40.0, 42.0, 46.0, 29.0, 40.0, 22.0, 31.0, 32.0, 25.0, 31.0, 44.0, 40.0, 31.0, 22.0, 37.0, 44.0, 27.0, 21.0, 27.0, 28.0, 21.0, 30.0, 23.0, 31.0, 41.0, 31.0, 41.0, 46.0, 20.0, 23.0, 28.0, 35.0, 30.0, 32.0, 25.0, 32.0, 26.0, 31.0, 31.0, 31.0, 41.0, 35.0, 45.0, 41.0, 31.0, 32.0, 45.0, 26.0, 46.0, 36.0, 20.0, 26.0, 31.0, 29.0, 42.0, 45.0, 35.0, 41.0, 25.0, 32.0, 36.0, 31.0, 22.0, 30.0, 20.0, 20.0, 25.0, 24.0, 27.0, 40.0, 44.0, 43.0, 44.0, 26.0, 26.0, 36.0, 35.0, 31.0, 38.0, 27.0, 20.0, 25.0, 22.0, 31.0, 43.0, 42.0, 40.0, 32.0, 30.0, 25.0, 32.0, 28.0, 25.0, 30.0, 37.0, 24.0, 31.0, 23.0, 25.0, 33.0, 43.0, 40.0, 46.0, 31.0, 29.0, 45.0, 42.0, 44.0, 37.0, 33.0, 25.0, 27.0, 31.0, 32.0, 42.0, 45.0, 41.0, 46.0, 42.0, 32.0, 34.0, 38.0, 25.0, 31.0, 35.0, 25.0, 26.0, 22.0, 26.0, 38.0, 44.0, 31.0, 33.0, 38.0, 32.0, 37.0, 32.0, 41.0, 29.0, 28.0, 20.0, 25.0, 23.0, 27.0, 41.0, 45.0, 38.0, 46.0, 26.0, 32.0, 37.0, 41.0, 27.0, 28.0, 33.0, 22.0, 29.0, 31.0, 32.0, 40.0, 44.0, 40.0, 42.0, 20.0, 32.0, 34.0, 31.0, 23.0, 25.0, 39.0, 20.0, 27.0, 22.0, 24.0, 41.0, 44.0, 42.0, 33.0, 25.0, 30.0, 37.0, 25.0, 34.0, 33.0, 28.0, 20.0, 25.0, 22.0, 29.0, 43.0, 41.0, 41.0, 46.0, 26.0, 31.0, 24.0, 36.0, 29.0, 29.0, 34.0]\n",
      "20.0\n",
      "46.0\n"
     ]
    }
   ],
   "source": [
    "raw_data = np.loadtxt('data.txt')\n",
    "\n",
    "mat = np.zeros(shape=(23, 6))\n",
    "values = np.arange(46,0,-1)\n",
    "\n",
    "for v in values:\n",
    "    for c in range(0, 6):\n",
    "        for r in range(0, 23):\n",
    "            if (c+r) == (46-v):\n",
    "                mat[r][c] = v\n",
    "                \n",
    "tournament_result = []\n",
    "for i in raw_data:\n",
    "    r = int(i[0] + 11 - 1)\n",
    "    c = int(i[1] - 1)\n",
    "    tournament_result.append(mat[r][c])\n",
    "    \n",
    "print(tournament_result)\n",
    "print(min(tournament_result))\n",
    "print(max(tournament_result))"
   ]
  },
  {
   "cell_type": "code",
   "execution_count": 5,
   "metadata": {
    "scrolled": false
   },
   "outputs": [],
   "source": [
    "# Read data and convert it to matrix with dimensions [6x23]\n",
    "raw_data = pd.read_csv('data.txt', sep=\" \", header=None)\n",
    "raw_data.columns = ['spread','win']\n",
    "raw_data = raw_data.groupby(['spread', 'win']).size().reset_index(name='counts')\n",
    "\n",
    "\n",
    "data_json = {i: [0 for j in range(-11,12)] for i in range(1,7)}\n",
    "for index, row in raw_data.iterrows():\n",
    "    data_json[row['win']][11+row['spread']] = row['counts']\n",
    "\n",
    "data = pd.DataFrame(data=data_json)\n",
    "j=-11\n",
    "c = {}\n",
    "for i in range(0,23):\n",
    "    c[i] = j\n",
    "    j += 1\n",
    "\n",
    "data.rename(index=c, inplace=True)\n",
    "data = data.T\n",
    "np_data = data.values\n",
    "\n",
    "\n"
   ]
  },
  {
   "cell_type": "code",
   "execution_count": 4,
   "metadata": {},
   "outputs": [
    {
     "ename": "FileNotFoundError",
     "evalue": "File b'kristel.txt' does not exist",
     "output_type": "error",
     "traceback": [
      "\u001b[1;31m---------------------------------------------------------------------------\u001b[0m",
      "\u001b[1;31mFileNotFoundError\u001b[0m                         Traceback (most recent call last)",
      "\u001b[1;32m<ipython-input-4-02ca2217b61d>\u001b[0m in \u001b[0;36m<module>\u001b[1;34m\u001b[0m\n\u001b[0;32m      1\u001b[0m \u001b[1;31m# Data #######\u001b[0m\u001b[1;33m\u001b[0m\u001b[1;33m\u001b[0m\u001b[1;33m\u001b[0m\u001b[0m\n\u001b[1;32m----> 2\u001b[1;33m \u001b[0mraw_data\u001b[0m \u001b[1;33m=\u001b[0m \u001b[0mpd\u001b[0m\u001b[1;33m.\u001b[0m\u001b[0mread_csv\u001b[0m\u001b[1;33m(\u001b[0m\u001b[1;34m'kristel.txt'\u001b[0m\u001b[1;33m,\u001b[0m \u001b[0msep\u001b[0m\u001b[1;33m=\u001b[0m\u001b[1;34m\" \"\u001b[0m\u001b[1;33m,\u001b[0m \u001b[0mheader\u001b[0m\u001b[1;33m=\u001b[0m\u001b[1;32mNone\u001b[0m\u001b[1;33m)\u001b[0m\u001b[1;33m\u001b[0m\u001b[1;33m\u001b[0m\u001b[0m\n\u001b[0m\u001b[0;32m      3\u001b[0m \u001b[0mprint\u001b[0m\u001b[1;33m(\u001b[0m\u001b[0mraw_data\u001b[0m\u001b[1;33m)\u001b[0m\u001b[1;33m\u001b[0m\u001b[1;33m\u001b[0m\u001b[0m\n\u001b[0;32m      4\u001b[0m \u001b[1;33m\u001b[0m\u001b[0m\n\u001b[0;32m      5\u001b[0m \u001b[1;33m\u001b[0m\u001b[0m\n",
      "\u001b[1;32m~\\AppData\\Local\\conda\\conda\\envs\\stan\\lib\\site-packages\\pandas\\io\\parsers.py\u001b[0m in \u001b[0;36mparser_f\u001b[1;34m(filepath_or_buffer, sep, delimiter, header, names, index_col, usecols, squeeze, prefix, mangle_dupe_cols, dtype, engine, converters, true_values, false_values, skipinitialspace, skiprows, nrows, na_values, keep_default_na, na_filter, verbose, skip_blank_lines, parse_dates, infer_datetime_format, keep_date_col, date_parser, dayfirst, iterator, chunksize, compression, thousands, decimal, lineterminator, quotechar, quoting, escapechar, comment, encoding, dialect, tupleize_cols, error_bad_lines, warn_bad_lines, skipfooter, doublequote, delim_whitespace, low_memory, memory_map, float_precision)\u001b[0m\n\u001b[0;32m    676\u001b[0m                     skip_blank_lines=skip_blank_lines)\n\u001b[0;32m    677\u001b[0m \u001b[1;33m\u001b[0m\u001b[0m\n\u001b[1;32m--> 678\u001b[1;33m         \u001b[1;32mreturn\u001b[0m \u001b[0m_read\u001b[0m\u001b[1;33m(\u001b[0m\u001b[0mfilepath_or_buffer\u001b[0m\u001b[1;33m,\u001b[0m \u001b[0mkwds\u001b[0m\u001b[1;33m)\u001b[0m\u001b[1;33m\u001b[0m\u001b[1;33m\u001b[0m\u001b[0m\n\u001b[0m\u001b[0;32m    679\u001b[0m \u001b[1;33m\u001b[0m\u001b[0m\n\u001b[0;32m    680\u001b[0m     \u001b[0mparser_f\u001b[0m\u001b[1;33m.\u001b[0m\u001b[0m__name__\u001b[0m \u001b[1;33m=\u001b[0m \u001b[0mname\u001b[0m\u001b[1;33m\u001b[0m\u001b[1;33m\u001b[0m\u001b[0m\n",
      "\u001b[1;32m~\\AppData\\Local\\conda\\conda\\envs\\stan\\lib\\site-packages\\pandas\\io\\parsers.py\u001b[0m in \u001b[0;36m_read\u001b[1;34m(filepath_or_buffer, kwds)\u001b[0m\n\u001b[0;32m    438\u001b[0m \u001b[1;33m\u001b[0m\u001b[0m\n\u001b[0;32m    439\u001b[0m     \u001b[1;31m# Create the parser.\u001b[0m\u001b[1;33m\u001b[0m\u001b[1;33m\u001b[0m\u001b[1;33m\u001b[0m\u001b[0m\n\u001b[1;32m--> 440\u001b[1;33m     \u001b[0mparser\u001b[0m \u001b[1;33m=\u001b[0m \u001b[0mTextFileReader\u001b[0m\u001b[1;33m(\u001b[0m\u001b[0mfilepath_or_buffer\u001b[0m\u001b[1;33m,\u001b[0m \u001b[1;33m**\u001b[0m\u001b[0mkwds\u001b[0m\u001b[1;33m)\u001b[0m\u001b[1;33m\u001b[0m\u001b[1;33m\u001b[0m\u001b[0m\n\u001b[0m\u001b[0;32m    441\u001b[0m \u001b[1;33m\u001b[0m\u001b[0m\n\u001b[0;32m    442\u001b[0m     \u001b[1;32mif\u001b[0m \u001b[0mchunksize\u001b[0m \u001b[1;32mor\u001b[0m \u001b[0miterator\u001b[0m\u001b[1;33m:\u001b[0m\u001b[1;33m\u001b[0m\u001b[1;33m\u001b[0m\u001b[0m\n",
      "\u001b[1;32m~\\AppData\\Local\\conda\\conda\\envs\\stan\\lib\\site-packages\\pandas\\io\\parsers.py\u001b[0m in \u001b[0;36m__init__\u001b[1;34m(self, f, engine, **kwds)\u001b[0m\n\u001b[0;32m    785\u001b[0m             \u001b[0mself\u001b[0m\u001b[1;33m.\u001b[0m\u001b[0moptions\u001b[0m\u001b[1;33m[\u001b[0m\u001b[1;34m'has_index_names'\u001b[0m\u001b[1;33m]\u001b[0m \u001b[1;33m=\u001b[0m \u001b[0mkwds\u001b[0m\u001b[1;33m[\u001b[0m\u001b[1;34m'has_index_names'\u001b[0m\u001b[1;33m]\u001b[0m\u001b[1;33m\u001b[0m\u001b[1;33m\u001b[0m\u001b[0m\n\u001b[0;32m    786\u001b[0m \u001b[1;33m\u001b[0m\u001b[0m\n\u001b[1;32m--> 787\u001b[1;33m         \u001b[0mself\u001b[0m\u001b[1;33m.\u001b[0m\u001b[0m_make_engine\u001b[0m\u001b[1;33m(\u001b[0m\u001b[0mself\u001b[0m\u001b[1;33m.\u001b[0m\u001b[0mengine\u001b[0m\u001b[1;33m)\u001b[0m\u001b[1;33m\u001b[0m\u001b[1;33m\u001b[0m\u001b[0m\n\u001b[0m\u001b[0;32m    788\u001b[0m \u001b[1;33m\u001b[0m\u001b[0m\n\u001b[0;32m    789\u001b[0m     \u001b[1;32mdef\u001b[0m \u001b[0mclose\u001b[0m\u001b[1;33m(\u001b[0m\u001b[0mself\u001b[0m\u001b[1;33m)\u001b[0m\u001b[1;33m:\u001b[0m\u001b[1;33m\u001b[0m\u001b[1;33m\u001b[0m\u001b[0m\n",
      "\u001b[1;32m~\\AppData\\Local\\conda\\conda\\envs\\stan\\lib\\site-packages\\pandas\\io\\parsers.py\u001b[0m in \u001b[0;36m_make_engine\u001b[1;34m(self, engine)\u001b[0m\n\u001b[0;32m   1012\u001b[0m     \u001b[1;32mdef\u001b[0m \u001b[0m_make_engine\u001b[0m\u001b[1;33m(\u001b[0m\u001b[0mself\u001b[0m\u001b[1;33m,\u001b[0m \u001b[0mengine\u001b[0m\u001b[1;33m=\u001b[0m\u001b[1;34m'c'\u001b[0m\u001b[1;33m)\u001b[0m\u001b[1;33m:\u001b[0m\u001b[1;33m\u001b[0m\u001b[1;33m\u001b[0m\u001b[0m\n\u001b[0;32m   1013\u001b[0m         \u001b[1;32mif\u001b[0m \u001b[0mengine\u001b[0m \u001b[1;33m==\u001b[0m \u001b[1;34m'c'\u001b[0m\u001b[1;33m:\u001b[0m\u001b[1;33m\u001b[0m\u001b[1;33m\u001b[0m\u001b[0m\n\u001b[1;32m-> 1014\u001b[1;33m             \u001b[0mself\u001b[0m\u001b[1;33m.\u001b[0m\u001b[0m_engine\u001b[0m \u001b[1;33m=\u001b[0m \u001b[0mCParserWrapper\u001b[0m\u001b[1;33m(\u001b[0m\u001b[0mself\u001b[0m\u001b[1;33m.\u001b[0m\u001b[0mf\u001b[0m\u001b[1;33m,\u001b[0m \u001b[1;33m**\u001b[0m\u001b[0mself\u001b[0m\u001b[1;33m.\u001b[0m\u001b[0moptions\u001b[0m\u001b[1;33m)\u001b[0m\u001b[1;33m\u001b[0m\u001b[1;33m\u001b[0m\u001b[0m\n\u001b[0m\u001b[0;32m   1015\u001b[0m         \u001b[1;32melse\u001b[0m\u001b[1;33m:\u001b[0m\u001b[1;33m\u001b[0m\u001b[1;33m\u001b[0m\u001b[0m\n\u001b[0;32m   1016\u001b[0m             \u001b[1;32mif\u001b[0m \u001b[0mengine\u001b[0m \u001b[1;33m==\u001b[0m \u001b[1;34m'python'\u001b[0m\u001b[1;33m:\u001b[0m\u001b[1;33m\u001b[0m\u001b[1;33m\u001b[0m\u001b[0m\n",
      "\u001b[1;32m~\\AppData\\Local\\conda\\conda\\envs\\stan\\lib\\site-packages\\pandas\\io\\parsers.py\u001b[0m in \u001b[0;36m__init__\u001b[1;34m(self, src, **kwds)\u001b[0m\n\u001b[0;32m   1706\u001b[0m         \u001b[0mkwds\u001b[0m\u001b[1;33m[\u001b[0m\u001b[1;34m'usecols'\u001b[0m\u001b[1;33m]\u001b[0m \u001b[1;33m=\u001b[0m \u001b[0mself\u001b[0m\u001b[1;33m.\u001b[0m\u001b[0musecols\u001b[0m\u001b[1;33m\u001b[0m\u001b[1;33m\u001b[0m\u001b[0m\n\u001b[0;32m   1707\u001b[0m \u001b[1;33m\u001b[0m\u001b[0m\n\u001b[1;32m-> 1708\u001b[1;33m         \u001b[0mself\u001b[0m\u001b[1;33m.\u001b[0m\u001b[0m_reader\u001b[0m \u001b[1;33m=\u001b[0m \u001b[0mparsers\u001b[0m\u001b[1;33m.\u001b[0m\u001b[0mTextReader\u001b[0m\u001b[1;33m(\u001b[0m\u001b[0msrc\u001b[0m\u001b[1;33m,\u001b[0m \u001b[1;33m**\u001b[0m\u001b[0mkwds\u001b[0m\u001b[1;33m)\u001b[0m\u001b[1;33m\u001b[0m\u001b[1;33m\u001b[0m\u001b[0m\n\u001b[0m\u001b[0;32m   1709\u001b[0m \u001b[1;33m\u001b[0m\u001b[0m\n\u001b[0;32m   1710\u001b[0m         \u001b[0mpassed_names\u001b[0m \u001b[1;33m=\u001b[0m \u001b[0mself\u001b[0m\u001b[1;33m.\u001b[0m\u001b[0mnames\u001b[0m \u001b[1;32mis\u001b[0m \u001b[1;32mNone\u001b[0m\u001b[1;33m\u001b[0m\u001b[1;33m\u001b[0m\u001b[0m\n",
      "\u001b[1;32mpandas\\_libs\\parsers.pyx\u001b[0m in \u001b[0;36mpandas._libs.parsers.TextReader.__cinit__\u001b[1;34m()\u001b[0m\n",
      "\u001b[1;32mpandas\\_libs\\parsers.pyx\u001b[0m in \u001b[0;36mpandas._libs.parsers.TextReader._setup_parser_source\u001b[1;34m()\u001b[0m\n",
      "\u001b[1;31mFileNotFoundError\u001b[0m: File b'kristel.txt' does not exist"
     ]
    }
   ],
   "source": [
    "# Data #######\n",
    "raw_data = pd.read_csv('kristel.txt', sep=\" \", header=None)\n",
    "print(raw_data)\n",
    "\n",
    "\n",
    "highest_frequency = max([8,8,7,7,6,6,5,5,4,3,2])+2\n",
    "#data = dict(N=11, n=[highest_frequency for i in range(0,11)], \n",
    "#            y=np.array(list(reversed([8,8,7,7,6,6,5,5,4,3,2]))), x=[1,2,3,4,5,6,7,8,9,10,11])\n",
    "data = dict(r=23, c=3, y=data_matrix)\n",
    "\n",
    "def fit_model(model_code='stan_code\\\\binom-logistic-regression.stan'):\n",
    "    model = stan_utility.compile_model(model_code)\n",
    "    fit = model.sampling(data=data, seed=194838, chains=4, iter=4000)\n",
    "    samples = fit.extract(permuted=True)\n",
    "    print(fit)\n",
    "    stan_utility.check_treedepth(fit)\n",
    "    stan_utility.check_energy(fit)\n",
    "    stan_utility.check_div(fit)\n",
    "    return samples"
   ]
  },
  {
   "cell_type": "code",
   "execution_count": 4,
   "metadata": {},
   "outputs": [
    {
     "name": "stdout",
     "output_type": "stream",
     "text": [
      "// Binomial model with linear fit prior\n",
      "data {\n",
      "  int<lower=0> N;\n",
      "  int n[N];  //Number of trials per spread\n",
      "  row_vector[N] x; //Spreads\n",
      "  int y[N];  //Number of successes per spread\n",
      "}\n",
      "parameters {\n",
      "  real alpha; \n",
      "  real beta; \n",
      "}\n",
      "transformed parameters {\n",
      "  row_vector[N] p;\n",
      "  p=inv_logit(alpha + beta*x);\n",
      "}\n",
      "model {\n",
      "  y ~ binomial(n,p); //Note! Probabilities should be constrained to lie between 0 and 1.\n",
      "}\n",
      "generated quantities {\n",
      " vector[N] y_rep;\n",
      " for(i in 1:N){\n",
      "  y_rep[i] <- binomial_rng(n[i],p[i]); //posterior draws to get posterior predictive checks\n",
      " }\n",
      "}\n"
     ]
    }
   ],
   "source": [
    "# Models\n",
    "with open('stan_code\\\\binom-logistic-regression.stan') as file:\n",
    "    print(file.read())"
   ]
  },
  {
   "cell_type": "code",
   "execution_count": 6,
   "metadata": {
    "scrolled": false
   },
   "outputs": [],
   "source": [
    "# logistic_samples = fit_model('stan_code\\\\binom-logistic-regression.stan')"
   ]
  },
  {
   "cell_type": "code",
   "execution_count": 34,
   "metadata": {},
   "outputs": [
    {
     "name": "stderr",
     "output_type": "stream",
     "text": [
      "INFO:pystan:COMPILING THE C++ CODE FOR MODEL anon_model_64050bdb4345f8556d8cea2a5498a672 NOW.\n",
      "C:\\Users\\phuct\\Miniconda3\\envs\\stan\\lib\\site-packages\\Cython\\Compiler\\Main.py:367: FutureWarning: Cython directive 'language_level' not set, using 2 for now (Py2). This will change in a later release! File: C:\\Users\\phuct\\AppData\\Local\\Temp\\tmp73xard5o\\stanfit4anon_model_64050bdb4345f8556d8cea2a5498a672_4005347848322932037.pyx\n",
      "  tree = Parsing.p_module(s, pxd, full_module_name)\n"
     ]
    },
    {
     "name": "stdout",
     "output_type": "stream",
     "text": [
      "Inference for Stan model: anon_model_64050bdb4345f8556d8cea2a5498a672.\n",
      "4 chains, each with iter=4000; warmup=2000; thin=1; \n",
      "post-warmup draws per chain=2000, total post-warmup draws=8000.\n",
      "\n",
      "           mean se_mean     sd   2.5%    25%    50%    75%  97.5%  n_eff   Rhat\n",
      "theta[1]   0.34  3.0e-3   0.24   0.01   0.13    0.3   0.51   0.85   6501    1.0\n",
      "theta[2]   0.33  2.8e-3   0.23   0.01   0.13   0.29   0.49   0.83   6903    1.0\n",
      "theta[3]   0.33  3.1e-3   0.24   0.01   0.13   0.29    0.5   0.85   5906    1.0\n",
      "lp__       -4.5    0.02   1.15  -7.65  -4.99  -4.15  -3.66  -3.33   3026    1.0\n",
      "\n",
      "Samples were drawn using NUTS at Thu Nov 29 14:00:15 2018.\n",
      "For each parameter, n_eff is a crude measure of effective sample size,\n",
      "and Rhat is the potential scale reduction factor on split chains (at \n",
      "convergence, Rhat=1).\n",
      "0 of 8000 iterations saturated the maximum tree depth of 10 (0.0%)\n",
      "0.0 of 8000 iterations ended with a divergence (0.0%)\n"
     ]
    }
   ],
   "source": [
    "logistic_samples = fit_model('stan_code\\\\multinomial.stan')"
   ]
  },
  {
   "cell_type": "code",
   "execution_count": null,
   "metadata": {},
   "outputs": [],
   "source": []
  },
  {
   "cell_type": "code",
   "execution_count": 9,
   "metadata": {},
   "outputs": [],
   "source": [
    "####### Multinomial #######\n",
    "\n",
    "\n",
    "\n",
    "\n"
   ]
  },
  {
   "cell_type": "code",
   "execution_count": null,
   "metadata": {},
   "outputs": [],
   "source": []
  },
  {
   "cell_type": "code",
   "execution_count": 16,
   "metadata": {},
   "outputs": [
    {
     "data": {
      "image/png": "[encoded data removed]",
      "text/plain": [
       "<Figure size 864x288 with 1 Axes>"
      ]
     },
     "metadata": {
      "needs_background": "light"
     },
     "output_type": "display_data"
    }
   ],
   "source": [
    "def show_model_fit(x, y, mu):    \n",
    "    figsize = plt.rcParams['figure.figsize'].copy()\n",
    "    figsize[0] *= 2  # width\n",
    "    fig, ax = plt.subplots(1, 1, figsize=figsize)\n",
    "\n",
    "    # scatterplot and lines\n",
    "    color_scatter = 'C0'  # 'C0' for default color #0\n",
    "    color_line = 'C1'     # 'C1' for default color #1\n",
    "    # lighten color_line\n",
    "    color_shade = (1 - 0.1*(1 - np.array(mpl.colors.to_rgb(color_line))))\n",
    "    # plot\n",
    "    ax.fill_between(\n",
    "        x,\n",
    "        np.percentile(mu, 5, axis=0),\n",
    "        np.percentile(mu, 95, axis=0),\n",
    "        color=color_shade\n",
    "    )\n",
    "    ax.plot(\n",
    "        x,\n",
    "        np.percentile(mu, 50, axis=0),\n",
    "        color=color_line,\n",
    "        linewidth=1\n",
    "    )\n",
    "    ax.scatter(x, y, 5, color=color_scatter)\n",
    "    ax.set_xlabel('Spread')\n",
    "    ax.set_ylabel('Normalized frequency')\n",
    "    ax.set_title('Wins per spread')\n",
    "    plt.show()\n",
    "    \n",
    "show_model_fit(data[\"x\"],data[\"y\"]/np.array([highest_frequency]), logistic_samples['p'])"
   ]
  },
  {
   "cell_type": "code",
   "execution_count": null,
   "metadata": {},
   "outputs": [],
   "source": []
  },
  {
   "cell_type": "code",
   "execution_count": null,
   "metadata": {},
   "outputs": [],
   "source": []
  },
  {
   "cell_type": "code",
   "execution_count": 17,
   "metadata": {
    "scrolled": false
   },
   "outputs": [
    {
     "data": {
      "image/png": "[encoded data removed]",
      "text/plain": [
       "<Figure size 432x288 with 1 Axes>"
      ]
     },
     "metadata": {
      "needs_background": "light"
     },
     "output_type": "display_data"
    },
    {
     "data": {
      "image/png": "[encoded data removed]",
      "text/plain": [
       "<Figure size 432x288 with 1 Axes>"
      ]
     },
     "metadata": {
      "needs_background": "light"
     },
     "output_type": "display_data"
    },
    {
     "data": {
      "text/plain": [
       "'plt.scatter(data[\"x\"],data[\"y\"]/np.array([highest_frequency]))\\ndef calc(a,b,xp):\\n    return np.exp(a + b*xp)/(1 + np.exp(a + b*xp))'"
      ]
     },
     "execution_count": 17,
     "metadata": {},
     "output_type": "execute_result"
    }
   ],
   "source": [
    "\"\"\"from scipy import stats\n",
    "for i in range(0,11):\n",
    "    mu = np.mean(logistic_samples['y_rep'][:,i])\n",
    "    std = np.std(logistic_samples['y_rep'][:,i])\n",
    "    x = np.linspace(0,11,100)\n",
    "    plt.plot(x, stats.norm(mu,std).pdf(x))\n",
    "    #plt.hist(logistic_samples['y_rep'][:,i], alpha=0.2, density=True)\n",
    "plt.show()\n",
    "\"\"\"\n",
    "\n",
    "\n",
    "plt.scatter(logistic_samples[\"alpha\"],logistic_samples[\"beta\"])\n",
    "plt.show();\n",
    "plt.hist(logistic_samples[\"alpha\"], bins=50)\n",
    "plt.hist(logistic_samples[\"beta\"], bins=50)\n",
    "plt.show();\n",
    "\n",
    "\"\"\"plt.scatter(data[\"x\"],data[\"y\"]/np.array([highest_frequency]))\n",
    "def calc(a,b,xp):\n",
    "    return np.exp(a + b*xp)/(1 + np.exp(a + b*xp))\"\"\""
   ]
  }
 ],
 "metadata": {
  "kernelspec": {
   "display_name": "Python 3",
   "language": "python",
   "name": "python3"
  },
  "language_info": {
   "codemirror_mode": {
    "name": "ipython",
    "version": 3
   },
   "file_extension": ".py",
   "mimetype": "text/x-python",
   "name": "python",
   "nbconvert_exporter": "python",
   "pygments_lexer": "ipython3",
   "version": "3.7.1"
  }
 },
 "nbformat": 4,
 "nbformat_minor": 2
}
